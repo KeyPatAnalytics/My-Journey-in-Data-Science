{
 "cells": [
  {
   "cell_type": "code",
   "execution_count": 1,
   "metadata": {
    "_cell_guid": "b1076dfc-b9ad-4769-8c92-a6c4dae69d19",
    "_uuid": "8f2839f25d086af736a60e9eeb907d3b93b6e0e5"
   },
   "outputs": [
    {
     "data": {
      "text/plain": [
       "\" \\nimport os\\nfor dirname, _, filenames in os.walk('/kaggle/input'):\\n    for filename in filenames:\\n        print(os.path.join(dirname, filename))\\n\""
      ]
     },
     "execution_count": 1,
     "metadata": {},
     "output_type": "execute_result"
    }
   ],
   "source": [
    "# This Python 3 environment comes with many helpful analytics libraries installed\n",
    "# It is defined by the kaggle/python Docker image: https://github.com/kaggle/docker-python\n",
    "# For example, here's several helpful packages to load\n",
    "\n",
    "import numpy as np # linear algebra\n",
    "import pandas as pd # data processing, CSV file I/O (e.g. pd.read_csv)\n",
    "\n",
    "# Input data files are available in the read-only \"../input/\" directory\n",
    "# For example, running this (by clicking run or pressing Shift+Enter) will list all files under the input directory\n",
    "\"\"\" \n",
    "import os\n",
    "for dirname, _, filenames in os.walk('/kaggle/input'):\n",
    "    for filename in filenames:\n",
    "        print(os.path.join(dirname, filename))\n",
    "\"\"\"\n",
    "# You can write up to 5GB to the current directory (/kaggle/working/) that gets preserved as output when you create a version using \"Save & Run All\" \n",
    "# You can also write temporary files to /kaggle/temp/, but they won't be saved outside of the current session"
   ]
  },
  {
   "cell_type": "code",
   "execution_count": 2,
   "metadata": {},
   "outputs": [],
   "source": [
    "import warnings\n",
    "warnings.filterwarnings('ignore')"
   ]
  },
  {
   "cell_type": "code",
   "execution_count": 3,
   "metadata": {},
   "outputs": [],
   "source": [
    "# This will help us in truncating the longer array\n",
    "np.set_printoptions(threshold = 100)"
   ]
  },
  {
   "cell_type": "markdown",
   "metadata": {},
   "source": [
    "<a id=\"top\"></a>\n",
    "\n",
    "<div class=\"list-group\" id=\"list-tab\" role=\"tablist\">\n",
    "\n",
    "<font color=\"teal\" size=+1><b>Content List</b></font>\n",
    "    \n",
    "* [0. Numpy version](#00)\n",
    "* [1. Create an empty array](#01)\n",
    "* [2. Check whether the array is empty](#02)\n",
    "* [3. Check elements count](#03)\n",
    "* [4. Arrange numpy between numbers](#04)\n",
    "* [5. Arrange numpy between numbers with intervals](#05)\n",
    "* [6. Array reshape](#06)\n",
    "* [7. Create a numpy with random integers](#07)\n",
    "* [8. Create a numpy with random integers and size](#08)\n",
    "* [9. Array of strings](#09)\n",
    "* [10. Numpy array with strings and explicit dtype](#10)\n",
    "* [11. Numpy array with strings and explicit dtype](#11)\n",
    "* [12. Print without truncation](#12)\n",
    "* [13. Save Numpy to CSV](#13)\n",
    "* [14. Dataframe to Numpy](#14)\n",
    "* [15. Get the nth column of an array](#15)\n",
    "* [16. Reshape with -1 (lazy option)](#16)\n",
    "* [17. Numpy with precision](#17)\n",
    "* [18. Argsort on Numpy array](#18)\n",
    "* [19. Numpy view](#19)\n",
    "* [20. Using Flipud](#20)\n",
    "* [21. Numpy inverse](#21)\n",
    "* [22. Numpy Inverse](#22)\n",
    "* [23. Numpy compare](#23)\n",
    "* [24. Numpy compare with nonzero count](#24)\n",
    "* [25. Flip a numpy array by using flipud](#25)\n",
    "* [26. Flip a numpy array by using flipud without sharing the memory](#26)\n",
    "* [27. Flip a numpy array by using fliplr (horizontally)](#27)\n",
    "* [28. Flip a numpy array by using flip (both horizontally and vertically)](#28)\n",
    "* [29. Flipping the numpy array using slices](#29)\n",
    "* [30. Convert numpy array to list](#30)\n",
    "* [31. Numpy Where](#31)\n",
    "* [32. Numpy where with multiple conditions](#32)\n",
    "* [33. Numpy where with multiple conditions - apply only on matching conditions](#33)\n",
    "* [34. Process with where](#34)\n",
    "* [35. List to numpy array](#35)\n",
    "* [36. List to numpy array with explicit dtype](#36)\n",
    "* [37. 2D list to numpy array](#37)\n",
    "* [38. Convert list to float numpy array](#38)\n",
    "* [39. Convert list to numpy array with explicit datatype](#39)\n",
    "* [40. Find common values between two numpy array](#40)\n",
    "* [41. Get today in numpy and deltas](#41)\n",
    "* [42. Between two Dates](#42)\n",
    "* [43. Random array and sorting](#43)\n",
    "* [44. Random int array and sorting](#44)\n",
    "* [45. String to nump,y array](#45)\n",
    "* [46. Find the nearest element in the array](#46)\n",
    "* [47. Swap rows](#47)\n",
    "* [48. Shuffle](#48)\n",
    "* [49. Get specific element](#49)\n",
    "* [50. Repeat an array](#50)\n",
    "* [51. Min, Max, Sum](#51)\n",
    "* [52. Get min of axis = 1](#52)\n",
    "* [53. Using amin function](#53)\n",
    "* [54. Using amax function](#54)\n",
    "* [55. Get min of axis = 0](#55)\n",
    "* [56. Calculate 90th percentile of an axis](#56)\n",
    "* [57. Find median](#57)\n",
    "* [58. Covariance matrix](#58)\n",
    "* [59. Pearson product-moment correlation](#59)\n",
    "* [60. Cross correlation](#60)\n",
    "* [61. Count the number of occurrences](#61)\n",
    "* [62. Create random int numpy array with specific shape](#62)\n",
    "* [63. Create 4 different integers from 0, 40. ](#63)\n",
    "* [64. Create 4 different integers from 0, 4. ](#64)\n",
    "* [65. Shuffle](#65)\n",
    "* [66. Shuffling by permutation](#66)\n",
    "* [67. Seed for random](#67)\n",
    "* [68. Get unique elements](#68)\n",
    "* [69. Create a boolean array with a shape of x](#69)\n",
    "* [70. Find unique intersection](#70)\n",
    "* [71. Find the diff](#71)\n",
    "* [72. Trying to inverse a singular matrix](#72)\n",
    "* [73. Find the union](#73)\n",
    "* [74. Element Sum](#74)\n",
    "* [75. Pretty print - suppress the scientific notation](#75)\n",
    "* [76. Print with decimal format](#76)\n",
    "* [77. Convert flot array to int array](#77)\n",
    "* [78. array vs asarray](#78)\n",
    "* [79. Numpy Datetime](#79)\n",
    "* [80. Numpy Datetime with arange](#80)\n",
    "* [81. Compare Numpy datetime](#81)\n",
    "* [82. Numpy 2D array flat list](#82)\n",
    "* [83. Numpy 2D array to flat list](#83)\n",
    "* [84. Numpy array to Pandas Dataframe](#84)\n",
    "* [85. Numpy to Dataframe by using from_records](#85)\n",
    "* [86. Append with hstack](#86)\n",
    "* [87. Ravel vs. Flatten](#87)\n",
    "* [88. Ravel and Flatten with assignment](#88)\n",
    "* [89. Numpy Concatenate](#89)\n",
    "* [90. Reverse 1D array](#90)\n",
    "* [91. Reverse 2D Array](#91)\n",
    "* [92. Reverse 2D array with elements](#92)\n",
    "* [93. Image as an array](#93)\n",
    "* [94. Array with prefilled values](#94)\n",
    "* [95. Delete specific indices](#95)\n",
    "* [96. Deleting specific elements](#96)\n",
    "* [97. Boolean Numpy Array](#97)\n",
    "* [98. Array of NaN](#98)\n",
    "* [99. Replace values with specific condition](#99)\n",
    "* [100. Selecting specific columns](#100)  \n",
    "* [101. Vectorize](#101)\n",
    "* [102. If condition on Numpy array on the fly](#102)\n",
    "* [103. If condition and sum on Numpy colum](#103)\n",
    "* [104. Using Vectorize function on Numpy](#104)\n",
    "* [105. Apply Along Axis on Numpy Matrix](#105)\n",
    "* [106. Sort the arry by using](#106)\n",
    "* [107. Numpy Roll](#107)\n",
    "* [108. Roll elements](#108)\n",
    "* [109. Array Append on Axis 0 and Axis 1](#109)\n",
    "* [110. Rearrange array with specified index](#110)\n",
    "* [111. Serialize array with pickle](#111)\n",
    "* [112. Transpose](#112)\n",
    "* [113. Continguous Array](#113)\n",
    "* [114. Numpy Reshape with Order](#114)  \n",
    "* [115. Element-wise math](#115)  \n",
    "* [116. Where with multiple condition](#116)  \n",
    "* [117. Subtract Outer](#117)  \n",
    "* [118. Multiply Outer](#118)  \n",
    "* [119. Immutable Array](#119)  \n",
    "* [120. Float anomalies in Numpy Arange](#120)  \n",
    "* [121. Complex number and absolute value](#121)  \n",
    "* [122. Set Error in Numpy](#122)  \n",
    "* [123. Convert List of List String to Numpy Array](#123)  \n",
    "* [124. Resize a list with rounds](#124)  \n",
    "* [125. Print columns by index](#125)  \n",
    "* [126. Initalize array with tuples](#126)  \n",
    "* [127. Rearrange with permutation](#127)  \n"
   ]
  },
  {
   "cell_type": "code",
   "execution_count": 4,
   "metadata": {},
   "outputs": [
    {
     "name": "stdout",
     "output_type": "stream",
     "text": [
      "* [114. ](114)  \n",
      "* [115. ](115)  \n",
      "* [116. ](116)  \n",
      "* [117. ](117)  \n",
      "* [118. ](118)  \n",
      "* [119. ](119)  \n",
      "* [120. ](120)  \n",
      "* [121. ](121)  \n",
      "* [122. ](122)  \n",
      "* [123. ](123)  \n",
      "* [124. ](124)  \n",
      "* [125. ](125)  \n",
      "* [126. ](126)  \n",
      "* [127. ](127)  \n"
     ]
    }
   ],
   "source": [
    "for i in range(114, 128):\n",
    "    print(f'* [{i}. ]({i})  ')"
   ]
  },
  {
   "cell_type": "markdown",
   "metadata": {},
   "source": [
    "<div style=\"\">\n",
    "    <div style=\"float: left; width: 80%;\">\n",
    "        <a id=\"00\"></a>\n",
    "        <font><b>Task 00:</b></font>\n",
    "        <br><br>\n",
    "        Numpy version\n",
    "    </div>\n",
    "    <div style=\"float: right;\">\n",
    "        <a href=\"#top\" class=\"btn btn-primary btn-sm\" role=\"button\" aria-pressed=\"true\" style=\"color:white\" data-toggle=\"popover\" title=\"go to Top\">Go to Top</a>\n",
    "    </div>\n",
    "    <br style=\"clear: left;\" />\n",
    "</div> "
   ]
  },
  {
   "cell_type": "code",
   "execution_count": 5,
   "metadata": {},
   "outputs": [
    {
     "data": {
      "text/plain": [
       "'1.16.5'"
      ]
     },
     "execution_count": 5,
     "metadata": {},
     "output_type": "execute_result"
    }
   ],
   "source": [
    "# 0. Numpy version\n",
    "\n",
    "np.__version__"
   ]
  },
  {
   "cell_type": "markdown",
   "metadata": {},
   "source": [
    "<div style=\"\">\n",
    "    <div style=\"float: left; width: 80%;\">\n",
    "        <a id=\"01\"></a>\n",
    "        <font><b>Task 01:</b></font>\n",
    "        <br><br>\n",
    "        Create an empty array\n",
    "    </div>\n",
    "    <div style=\"float: right;\">\n",
    "        <a href=\"#top\" class=\"btn btn-primary btn-sm\" role=\"button\" aria-pressed=\"true\" style=\"color:white\" data-toggle=\"popover\" title=\"go to Top\">Go to Top</a>\n",
    "    </div>\n",
    "    <br style=\"clear: left;\" />\n",
    "</div> "
   ]
  },
  {
   "cell_type": "code",
   "execution_count": 6,
   "metadata": {
    "_cell_guid": "79c7e3d0-c299-4dcb-8224-4455121ee9b0",
    "_uuid": "d629ff2d2480ee46fbb7e2d37f6b5fab8052498a"
   },
   "outputs": [
    {
     "name": "stdout",
     "output_type": "stream",
     "text": [
      "[[1528123712        534]\n",
      " [         0          0]]\n",
      "(2, 2)\n",
      "4\n"
     ]
    }
   ],
   "source": [
    "# 1. Create an empty array\n",
    "\n",
    "empty_array = np.empty([2, 2], int)\n",
    "\n",
    "print(empty_array)\n",
    "\n",
    "print(empty_array.shape)\n",
    "\n",
    "print(empty_array.size)"
   ]
  },
  {
   "cell_type": "markdown",
   "metadata": {},
   "source": [
    "<div style=\"\">\n",
    "    <div style=\"float: left; width: 80%;\">\n",
    "        <a id=\"02\"></a>\n",
    "        <font><b>Task 02:</b></font>\n",
    "        <br><br>\n",
    "        Check whether the array is empty\n",
    "    </div>\n",
    "    <div style=\"float: right;\">\n",
    "        <a href=\"#top\" class=\"btn btn-primary btn-sm\" role=\"button\" aria-pressed=\"true\" style=\"color:white\" data-toggle=\"popover\" title=\"go to Top\">Go to Top</a>\n",
    "    </div>\n",
    "    <br style=\"clear: left;\" />\n",
    "</div> "
   ]
  },
  {
   "cell_type": "code",
   "execution_count": 7,
   "metadata": {},
   "outputs": [
    {
     "name": "stdout",
     "output_type": "stream",
     "text": [
      "[]  : Empty\n",
      "[1 2]  : Non Empty\n"
     ]
    }
   ],
   "source": [
    "# 2. Check whether the array is empty\n",
    "\n",
    "a = np.array([])\n",
    "b = np.array([1, 2])\n",
    "\n",
    "def check_empty(a):\n",
    "    if a.size == 0:\n",
    "        print(a, ' : Empty')\n",
    "    else:\n",
    "        print(b, ' : Non Empty')\n",
    "        \n",
    "check_empty(a)\n",
    "check_empty(b)"
   ]
  },
  {
   "cell_type": "markdown",
   "metadata": {},
   "source": [
    "<div style=\"\">\n",
    "    <div style=\"float: left; width: 80%;\">\n",
    "        <a id=\"03\"></a>\n",
    "        <font><b>Task 03:</b></font>\n",
    "        <br><br>\n",
    "        Check elements count\n",
    "    </div>\n",
    "    <div style=\"float: right;\">\n",
    "        <a href=\"#top\" class=\"btn btn-primary btn-sm\" role=\"button\" aria-pressed=\"true\" style=\"color:white\" data-toggle=\"popover\" title=\"go to Top\">Go to Top</a>\n",
    "    </div>\n",
    "    <br style=\"clear: left;\" />\n",
    "</div> "
   ]
  },
  {
   "cell_type": "code",
   "execution_count": 11,
   "metadata": {
    "scrolled": true
   },
   "outputs": [
    {
     "name": "stdout",
     "output_type": "stream",
     "text": [
      "[] , elements_count :  0\n",
      "[[1 2]\n",
      " [5 9]] , elements_count :  4\n"
     ]
    }
   ],
   "source": [
    "# 3. Check elements count\n",
    "\n",
    "c = np.array([])\n",
    "d = np.array([[1, 2],[5,9]])\n",
    "\n",
    "def get_elements(c_array):\n",
    "    return c_array.ndim and c_array.size\n",
    "        \n",
    "print(c, ', elements_count : ', get_elements(c))\n",
    "print(d, ', elements_count : ', get_elements(d))"
   ]
  },
  {
   "cell_type": "code",
   "execution_count": 12,
   "metadata": {},
   "outputs": [
    {
     "data": {
      "text/plain": [
       "2"
      ]
     },
     "execution_count": 12,
     "metadata": {},
     "output_type": "execute_result"
    }
   ],
   "source": [
    "d.ndim"
   ]
  },
  {
   "cell_type": "markdown",
   "metadata": {},
   "source": [
    "<div style=\"\">\n",
    "    <div style=\"float: left; width: 80%;\">\n",
    "        <a id=\"04\"></a>\n",
    "        <font><b>Task 04:</b></font>\n",
    "        <br><br>\n",
    "        Arrange numpy between numbers\n",
    "    </div>\n",
    "    <div style=\"float: right;\">\n",
    "        <a href=\"#top\" class=\"btn btn-primary btn-sm\" role=\"button\" aria-pressed=\"true\" style=\"color:white\" data-toggle=\"popover\" title=\"go to Top\">Go to Top</a>\n",
    "    </div>\n",
    "    <br style=\"clear: left;\" />\n",
    "</div> "
   ]
  },
  {
   "cell_type": "code",
   "execution_count": 13,
   "metadata": {},
   "outputs": [
    {
     "name": "stdout",
     "output_type": "stream",
     "text": [
      "[ 4  5  6  7  8  9 10 11]\n",
      "[ 4  5  6  7  8  9 10 11] .shape :  (8,)\n"
     ]
    }
   ],
   "source": [
    "# 4. Arrange numpy between numbers\n",
    "\n",
    "a = np.arange(4, 12)\n",
    "\n",
    "print(a)\n",
    "print(a, '.shape : ', a.shape)"
   ]
  },
  {
   "cell_type": "markdown",
   "metadata": {},
   "source": [
    "<div style=\"\">\n",
    "    <div style=\"float: left; width: 80%;\">\n",
    "        <a id=\"05\"></a>\n",
    "        <font><b>Task 05:</b></font>\n",
    "        <br><br>\n",
    "        Arrange numpy between numbers with intervals\n",
    "    </div>\n",
    "    <div style=\"float: right;\">\n",
    "        <a href=\"#top\" class=\"btn btn-primary btn-sm\" role=\"button\" aria-pressed=\"true\" style=\"color:white\" data-toggle=\"popover\" title=\"go to Top\">Go to Top</a>\n",
    "    </div>\n",
    "    <br style=\"clear: left;\" />\n",
    "</div> "
   ]
  },
  {
   "cell_type": "code",
   "execution_count": null,
   "metadata": {},
   "outputs": [],
   "source": [
    "# 5. Arrange numpy between numbers with intervals\n",
    "\n",
    "c = np.arange(12, 30, 3)\n",
    "\n",
    "print(c)\n",
    "print(c, '.shape : ', c.shape)"
   ]
  },
  {
   "cell_type": "markdown",
   "metadata": {},
   "source": [
    "<div style=\"\">\n",
    "    <div style=\"float: left; width: 80%;\">\n",
    "        <a id=\"06\"></a>\n",
    "        <font><b>Task 06:</b></font>\n",
    "        <br><br>\n",
    "        Array reshape\n",
    "    </div>\n",
    "    <div style=\"float: right;\">\n",
    "        <a href=\"#top\" class=\"btn btn-primary btn-sm\" role=\"button\" aria-pressed=\"true\" style=\"color:white\" data-toggle=\"popover\" title=\"go to Top\">Go to Top</a>\n",
    "    </div>\n",
    "    <br style=\"clear: left;\" />\n",
    "</div> "
   ]
  },
  {
   "cell_type": "code",
   "execution_count": null,
   "metadata": {},
   "outputs": [],
   "source": [
    "# 6. Array reshape\n",
    "\n",
    "c = np.arange(12, 30, 3)\n",
    "d = c.reshape(2, 3)\n",
    "\n",
    "print(c)\n",
    "print(c, '.shape : ', c.shape)\n",
    "print('\\nAfter reshaping : ')\n",
    "print(d)\n",
    "print(d, '.shape : ', d.shape)"
   ]
  },
  {
   "cell_type": "markdown",
   "metadata": {},
   "source": [
    "<div style=\"\">\n",
    "    <div style=\"float: left; width: 80%;\">\n",
    "        <a id=\"07\"></a>\n",
    "        <font><b>Task 07:</b></font>\n",
    "        <br><br>\n",
    "        Create a numpy with random integers\n",
    "    </div>\n",
    "    <div style=\"float: right;\">\n",
    "        <a href=\"#top\" class=\"btn btn-primary btn-sm\" role=\"button\" aria-pressed=\"true\" style=\"color:white\" data-toggle=\"popover\" title=\"go to Top\">Go to Top</a>\n",
    "    </div>\n",
    "    <br style=\"clear: left;\" />\n",
    "</div> "
   ]
  },
  {
   "cell_type": "code",
   "execution_count": null,
   "metadata": {},
   "outputs": [],
   "source": [
    "# 7. Create a numpy with random integers\n",
    "\n",
    "a = np.random.randint(10, size = 5)\n",
    "\n",
    "print(a)"
   ]
  },
  {
   "cell_type": "markdown",
   "metadata": {},
   "source": [
    "<div style=\"\">\n",
    "    <div style=\"float: left; width: 80%;\">\n",
    "        <a id=\"08\"></a>\n",
    "        <font><b>Task 08:</b></font>\n",
    "        <br><br>\n",
    "        Create a numpy with random integers and size\n",
    "    </div>\n",
    "    <div style=\"float: right;\">\n",
    "        <a href=\"#top\" class=\"btn btn-primary btn-sm\" role=\"button\" aria-pressed=\"true\" style=\"color:white\" data-toggle=\"popover\" title=\"go to Top\">Go to Top</a>\n",
    "    </div>\n",
    "    <br style=\"clear: left;\" />\n",
    "</div> "
   ]
  },
  {
   "cell_type": "code",
   "execution_count": null,
   "metadata": {},
   "outputs": [],
   "source": [
    "# 8. Create a numpy with random integers and size\n",
    "\n",
    "a = np.random.randint(10, size = (2, 3))\n",
    "\n",
    "print(a)\n",
    "print(a, '.shape : ', a.shape)\n",
    "print('datatype : ', a.dtype)"
   ]
  },
  {
   "cell_type": "markdown",
   "metadata": {},
   "source": [
    "<div style=\"\">\n",
    "    <div style=\"float: left; width: 80%;\">\n",
    "        <a id=\"09\"></a>\n",
    "        <font><b>Task 09:</b></font>\n",
    "        <br><br>\n",
    "        Array of strings\n",
    "    </div>\n",
    "    <div style=\"float: right;\">\n",
    "        <a href=\"#top\" class=\"btn btn-primary btn-sm\" role=\"button\" aria-pressed=\"true\" style=\"color:white\" data-toggle=\"popover\" title=\"go to Top\">Go to Top</a>\n",
    "    </div>\n",
    "    <br style=\"clear: left;\" />\n",
    "</div> "
   ]
  },
  {
   "cell_type": "code",
   "execution_count": null,
   "metadata": {},
   "outputs": [],
   "source": [
    "# 9. Array of strings\n",
    "\n",
    "a = np.array(('Toronto','Montreal','New York'))\n",
    "print(a)\n",
    "print(a.dtype)"
   ]
  },
  {
   "cell_type": "markdown",
   "metadata": {},
   "source": [
    "<div style=\"\">\n",
    "    <div style=\"float: left; width: 80%;\">\n",
    "        <a id=\"10\"></a>\n",
    "        <font><b>Task 10:</b></font>\n",
    "        <br><br>\n",
    "        Numpy array with strings and explicit dtype\n",
    "    </div>\n",
    "    <div style=\"float: right;\">\n",
    "        <a href=\"#top\" class=\"btn btn-primary btn-sm\" role=\"button\" aria-pressed=\"true\" style=\"color:white\" data-toggle=\"popover\" title=\"go to Top\">Go to Top</a>\n",
    "    </div>\n",
    "    <br style=\"clear: left;\" />\n",
    "</div> "
   ]
  },
  {
   "cell_type": "code",
   "execution_count": null,
   "metadata": {},
   "outputs": [],
   "source": [
    "# 10. Numpy array with strings and explicit dtype\n",
    "\n",
    "x = np.array(['Toronto', 'Montreal'], dtype=str)\n",
    "\n",
    "print(x)\n",
    "print(x.dtype)"
   ]
  },
  {
   "cell_type": "markdown",
   "metadata": {},
   "source": [
    "<div style=\"\">\n",
    "    <div style=\"float: left; width: 80%;\">\n",
    "        <a id=\"11\"></a>\n",
    "        <font><b>Task 11:</b></font>\n",
    "        <br><br>\n",
    "        Numpy array with strings and explicit dtype\n",
    "    </div>\n",
    "    <div style=\"float: right;\">\n",
    "        <a href=\"#top\" class=\"btn btn-primary btn-sm\" role=\"button\" aria-pressed=\"true\" style=\"color:white\" data-toggle=\"popover\" title=\"go to Top\">Go to Top</a>\n",
    "    </div>\n",
    "    <br style=\"clear: left;\" />\n",
    "</div> "
   ]
  },
  {
   "cell_type": "code",
   "execution_count": null,
   "metadata": {},
   "outputs": [],
   "source": [
    "# 11. Numpy array with strings and explicit dtype\n",
    "\n",
    "x = np.array(['To'], dtype=str)\n",
    "y = x.view('S1').reshape(x.size, -1)\n",
    "\n",
    "print(y)"
   ]
  },
  {
   "cell_type": "markdown",
   "metadata": {},
   "source": [
    "<div style=\"\">\n",
    "    <div style=\"float: left; width: 80%;\">\n",
    "        <a id=\"12\"></a>\n",
    "        <font><b>Task 12:</b></font>\n",
    "        <br><br>\n",
    "        Print without truncation\n",
    "    </div>\n",
    "    <div style=\"float: right;\">\n",
    "        <a href=\"#top\" class=\"btn btn-primary btn-sm\" role=\"button\" aria-pressed=\"true\" style=\"color:white\" data-toggle=\"popover\" title=\"go to Top\">Go to Top</a>\n",
    "    </div>\n",
    "    <br style=\"clear: left;\" />\n",
    "</div>"
   ]
  },
  {
   "cell_type": "code",
   "execution_count": null,
   "metadata": {},
   "outputs": [],
   "source": [
    "# 12. Print without truncation\n",
    "\n",
    "x = np.arange(10000)\n",
    "\n",
    "print('Before setting print options : ')\n",
    "print(x) # this will print with the truncation\n",
    "\n",
    "# set\n",
    "import sys\n",
    "# np.set_printoptions(threshold = sys.maxsize)\n",
    "\n",
    "# print('\\nAfter setting print options : ')\n",
    "# print(a) # this will print everything without truncation"
   ]
  },
  {
   "cell_type": "markdown",
   "metadata": {},
   "source": [
    "<div style=\"\">\n",
    "    <div style=\"float: left; width: 80%;\">\n",
    "        <a id=\"13\"></a>\n",
    "        <font><b>Task 13:</b></font>\n",
    "        <br><br>\n",
    "        Save Numpy to CSV\n",
    "    </div>\n",
    "    <div style=\"float: right;\">\n",
    "        <a href=\"#top\" class=\"btn btn-primary btn-sm\" role=\"button\" aria-pressed=\"true\" style=\"color:white\" data-toggle=\"popover\" title=\"go to Top\">Go to Top</a>\n",
    "    </div>\n",
    "    <br style=\"clear: left;\" />\n",
    "</div>"
   ]
  },
  {
   "cell_type": "code",
   "execution_count": null,
   "metadata": {},
   "outputs": [],
   "source": [
    "# 13. Save Numpy to CSV\n",
    "\n",
    "a = np.asarray([ [1,2,3], [4,5,6]])\n",
    "print(a)\n",
    "# numpy.savetxt(\"abc.csv\", a, delimiter=\",\") # this will save the numpy to csv file"
   ]
  },
  {
   "cell_type": "markdown",
   "metadata": {},
   "source": [
    "<div style=\"\">\n",
    "    <div style=\"float: left; width: 80%;\">\n",
    "        <a id=\"14\"></a>\n",
    "        <font><b>Task 14:</b></font>\n",
    "        <br><br>\n",
    "        Dataframe to Numpy\n",
    "    </div>\n",
    "    <div style=\"float: right;\">\n",
    "        <a href=\"#top\" class=\"btn btn-primary btn-sm\" role=\"button\" aria-pressed=\"true\" style=\"color:white\" data-toggle=\"popover\" title=\"go to Top\">Go to Top</a>\n",
    "    </div>\n",
    "    <br style=\"clear: left;\" />\n",
    "</div>"
   ]
  },
  {
   "cell_type": "code",
   "execution_count": null,
   "metadata": {},
   "outputs": [],
   "source": [
    "# 14. Dataframe to Numpy\n",
    "\n",
    "df = pd.DataFrame({'a1': [1, 2, 3], 'a2': [4, 5, 6]}, index = ['X', 'Y', 'Z'])\n",
    "\n",
    "print('Dataframe:')\n",
    "print(df)\n",
    "\n",
    "x = df.to_numpy()\n",
    "\n",
    "print('\\nDataframe to Numpy:')\n",
    "print(x)\n",
    "\n",
    "y = df.index.to_numpy()\n",
    "print('\\nDataframe Indices to Numpy:')\n",
    "print(y)\n",
    "\n",
    "z = df['a1'].to_numpy()\n",
    "print('\\nDataframe Series to Numpy:')\n",
    "print(z)"
   ]
  },
  {
   "cell_type": "markdown",
   "metadata": {},
   "source": [
    "<div style=\"\">\n",
    "    <div style=\"float: left; width: 80%;\">\n",
    "        <a id=\"15\"></a>\n",
    "        <font><b>Task 15:</b></font>\n",
    "        <br><br>\n",
    "        Get the nth column of an array\n",
    "    </div>\n",
    "    <div style=\"float: right;\">\n",
    "        <a href=\"#top\" class=\"btn btn-primary btn-sm\" role=\"button\" aria-pressed=\"true\" style=\"color:white\" data-toggle=\"popover\" title=\"go to Top\">Go to Top</a>\n",
    "    </div>\n",
    "    <br style=\"clear: left;\" />\n",
    "</div>"
   ]
  },
  {
   "cell_type": "code",
   "execution_count": null,
   "metadata": {},
   "outputs": [],
   "source": [
    "# 15. Get the nth column of an array\n",
    "\n",
    "x = np.array([[1, 2], [3, 4], [5, 6]])\n",
    "\n",
    "print('Numpy array:')\n",
    "print(x)\n",
    "\n",
    "y = x[:,0]\n",
    "print('\\nx[:,0]:')\n",
    "print(y)\n",
    "\n",
    "z = x[:, 1]\n",
    "print('\\nx[:, 1]:')\n",
    "print(z)\n",
    "\n",
    "a = x[1,:]\n",
    "print('\\nx[1,:]:')\n",
    "print(a)"
   ]
  },
  {
   "cell_type": "markdown",
   "metadata": {},
   "source": [
    "<div style=\"\">\n",
    "    <div style=\"float: left; width: 80%;\">\n",
    "        <a id=\"16\"></a>\n",
    "        <font><b>Task 16:</b></font>\n",
    "        <br><br>\n",
    "        Reshape with -1 (lazy option)\n",
    "    </div>\n",
    "    <div style=\"float: right;\">\n",
    "        <a href=\"#top\" class=\"btn btn-primary btn-sm\" role=\"button\" aria-pressed=\"true\" style=\"color:white\" data-toggle=\"popover\" title=\"go to Top\">Go to Top</a>\n",
    "    </div>\n",
    "    <br style=\"clear: left;\" />\n",
    "</div>"
   ]
  },
  {
   "cell_type": "code",
   "execution_count": null,
   "metadata": {},
   "outputs": [],
   "source": [
    "# 16. Reshape with -1 (lazy option)\n",
    "\n",
    "a = np.matrix([[1, 2, 3, 4], [5, 6, 7, 8], [10, 11, 12, 21]])\n",
    "print('Original Numpy Array:')\n",
    "print(a)\n",
    "print('original shape: ', a.shape)\n",
    "\n",
    "c = np.reshape(a, -1)\n",
    "print('\\nnp.reshape(a, -1):')\n",
    "print(c)\n",
    "print('new shape: ', c.shape)\n",
    "\n",
    "d = np.reshape(a, (1, -1))\n",
    "print('\\nnp.reshape(a, (1, -1)):')\n",
    "print(d)\n",
    "print('new shape: ', d.shape)\n",
    "\n",
    "e = np.reshape(a, (2, -1))\n",
    "print('\\nnp.reshape(a, (2, -1)):')\n",
    "print(e)\n",
    "print('new shape: ', e.shape)\n",
    "\n",
    "f = np.reshape(a, (3, -1))\n",
    "print('\\nnp.reshape(a, (3, -1)):')\n",
    "print(f)\n",
    "print('new shape: ', f.shape)\n",
    "\n",
    "g = np.reshape(a, (4, -1))\n",
    "print('\\nnp.reshape(a, (4, -1)):')\n",
    "print(g)\n",
    "print('new shape: ', g.shape)"
   ]
  },
  {
   "cell_type": "markdown",
   "metadata": {},
   "source": [
    "<div style=\"\">\n",
    "    <div style=\"float: left; width: 80%;\">\n",
    "        <a id=\"17\"></a>\n",
    "        <font><b>Task 17:</b></font>\n",
    "        <br><br>\n",
    "        Numpy with precision\n",
    "    </div>\n",
    "    <div style=\"float: right;\">\n",
    "        <a href=\"#top\" class=\"btn btn-primary btn-sm\" role=\"button\" aria-pressed=\"true\" style=\"color:white\" data-toggle=\"popover\" title=\"go to Top\">Go to Top</a>\n",
    "    </div>\n",
    "    <br style=\"clear: left;\" />\n",
    "</div>"
   ]
  },
  {
   "cell_type": "code",
   "execution_count": null,
   "metadata": {},
   "outputs": [],
   "source": [
    "# 17. Numpy with precision\n",
    "\n",
    "x = np.random.random(10)\n",
    "\n",
    "print('Original Array:')\n",
    "print(x)\n",
    "\n",
    "print('\\nAfter setting presicion:')\n",
    "np.set_printoptions(precision = 2)\n",
    "print(x)\n",
    "\n",
    "# resetting precision to default (8)\n",
    "np.set_printoptions(precision = 8)"
   ]
  },
  {
   "cell_type": "markdown",
   "metadata": {},
   "source": [
    "<div style=\"\">\n",
    "    <div style=\"float: left; width: 80%;\">\n",
    "        <a id=\"18\"></a>\n",
    "        <font><b>Task 18:</b></font>\n",
    "        <br><br>\n",
    "        Argsort on Numpy array\n",
    "    </div>\n",
    "    <div style=\"float: right;\">\n",
    "        <a href=\"#top\" class=\"btn btn-primary btn-sm\" role=\"button\" aria-pressed=\"true\" style=\"color:white\" data-toggle=\"popover\" title=\"go to Top\">Go to Top</a>\n",
    "    </div>\n",
    "    <br style=\"clear: left;\" />\n",
    "</div> "
   ]
  },
  {
   "cell_type": "code",
   "execution_count": null,
   "metadata": {},
   "outputs": [],
   "source": [
    "# 18. Argsort on Numpy array\n",
    "\n",
    "a = np.random.randint(0, 10, (3,3))\n",
    "print('Before : ')\n",
    "print(a)\n",
    "\n",
    "print('\\nAfter : ')\n",
    "b = a[a[: ,2].argsort()]\n",
    "print(b)"
   ]
  },
  {
   "cell_type": "markdown",
   "metadata": {},
   "source": [
    "<div style=\"\">\n",
    "    <div style=\"float: left; width: 80%;\">\n",
    "        <a id=\"19\"></a>\n",
    "        <font><b>Task 19:</b></font>\n",
    "        <br><br>\n",
    "        Numpy view\n",
    "    </div>\n",
    "    <div style=\"float: right;\">\n",
    "        <a href=\"#top\" class=\"btn btn-primary btn-sm\" role=\"button\" aria-pressed=\"true\" style=\"color:white\" data-toggle=\"popover\" title=\"go to Top\">Go to Top</a>\n",
    "    </div>\n",
    "    <br style=\"clear: left;\" />\n",
    "</div> "
   ]
  },
  {
   "cell_type": "code",
   "execution_count": null,
   "metadata": {},
   "outputs": [],
   "source": [
    "# 19. Numpy view\n",
    "\n",
    "x = np.array([(1, 2)], dtype=[('a', np.int8), ('b', np.int8)])\n",
    "print(x)\n",
    "print(x.dtype)\n",
    "\n",
    "y = x.view(dtype=np.int16, type=np.matrix)\n",
    "print(y)\n",
    "print(y.dtype)"
   ]
  },
  {
   "cell_type": "markdown",
   "metadata": {},
   "source": [
    "<div style=\"\">\n",
    "    <div style=\"float: left; width: 80%;\">\n",
    "        <a id=\"20\"></a>\n",
    "        <font><b>Task 20:</b></font>\n",
    "        <br><br>\n",
    "        Using Flipud\n",
    "    </div>\n",
    "    <div style=\"float: right;\">\n",
    "        <a href=\"#top\" class=\"btn btn-primary btn-sm\" role=\"button\" aria-pressed=\"true\" style=\"color:white\" data-toggle=\"popover\" title=\"go to Top\">Go to Top</a>\n",
    "    </div>\n",
    "    <br style=\"clear: left;\" />\n",
    "</div> "
   ]
  },
  {
   "cell_type": "code",
   "execution_count": null,
   "metadata": {},
   "outputs": [],
   "source": [
    "# 20. Using Flipud\n",
    "\n",
    "import numpy as np \n",
    "import matplotlib.pyplot as plt\n",
    "import matplotlib.image as mp_img\n",
    "\n",
    "image_a = mp_img.imread('/kaggle/input/numpy-cheatsheet/cn_tower.jpg')\n",
    "\n",
    "image_b = np.flipud(image_a)\n",
    "plt.imshow(image_b)\n",
    "\n",
    "# plt.savefig(\"/kaggle/input/numpy-cheatsheet/cn_tower_ver.jpg\", dpi=200)\n",
    "plt.show()"
   ]
  },
  {
   "cell_type": "markdown",
   "metadata": {},
   "source": [
    "<div style=\"\">\n",
    "    <div style=\"float: left; width: 80%;\">\n",
    "        <a id=\"21\"></a>\n",
    "        <font><b>Task 21:</b></font>\n",
    "        <br><br>\n",
    "        Numpy inverse\n",
    "    </div>\n",
    "    <div style=\"float: right;\">\n",
    "        <a href=\"#top\" class=\"btn btn-primary btn-sm\" role=\"button\" aria-pressed=\"true\" style=\"color:white\" data-toggle=\"popover\" title=\"go to Top\">Go to Top</a>\n",
    "    </div>\n",
    "    <br style=\"clear: left;\" />\n",
    "</div> "
   ]
  },
  {
   "cell_type": "code",
   "execution_count": null,
   "metadata": {},
   "outputs": [],
   "source": [
    "# 21. Numpy inverse\n",
    "\n",
    "b = np.array([[2,3],[4,5]])\n",
    "print('Before Inverse : ')\n",
    "print(b)\n",
    "\n",
    "c = np.linalg.inv(b)\n",
    "print('After Inverse : ')\n",
    "print(c)"
   ]
  },
  {
   "cell_type": "markdown",
   "metadata": {},
   "source": [
    "<div style=\"\">\n",
    "    <div style=\"float: left; width: 80%;\">\n",
    "        <a id=\"22\"></a>\n",
    "        <font><b>Task 22:</b></font>\n",
    "        <br><br>\n",
    "        Numpy Inverse\n",
    "    </div>\n",
    "    <div style=\"float: right;\">\n",
    "        <a href=\"#top\" class=\"btn btn-primary btn-sm\" role=\"button\" aria-pressed=\"true\" style=\"color:white\" data-toggle=\"popover\" title=\"go to Top\">Go to Top</a>\n",
    "    </div>\n",
    "    <br style=\"clear: left;\" />\n",
    "</div> "
   ]
  },
  {
   "cell_type": "code",
   "execution_count": null,
   "metadata": {},
   "outputs": [],
   "source": [
    "# 22. Numpy Inverse\n",
    "\n",
    "x = np.matrix([[10, 20], [60, 70]])\n",
    "print('Before Inverse : ')\n",
    "print(x)\n",
    "\n",
    "print('After Inverse : ')\n",
    "print(x.I)"
   ]
  },
  {
   "cell_type": "markdown",
   "metadata": {},
   "source": [
    "<div style=\"\">\n",
    "    <div style=\"float: left; width: 80%;\">\n",
    "        <a id=\"23\"></a>\n",
    "        <font><b>Task 23:</b></font>\n",
    "        <br><br>\n",
    "        Numpy compare\n",
    "    </div>\n",
    "    <div style=\"float: right;\">\n",
    "        <a href=\"#top\" class=\"btn btn-primary btn-sm\" role=\"button\" aria-pressed=\"true\" style=\"color:white\" data-toggle=\"popover\" title=\"go to Top\">Go to Top</a>\n",
    "    </div>\n",
    "    <br style=\"clear: left;\" />\n",
    "</div> "
   ]
  },
  {
   "cell_type": "code",
   "execution_count": null,
   "metadata": {},
   "outputs": [],
   "source": [
    "# 23. Numpy compare\n",
    "\n",
    "a = np.arange(12).reshape((3, 4))\n",
    "print(a)\n",
    "\n",
    "a_bool = a < 6\n",
    "print(a_bool)"
   ]
  },
  {
   "cell_type": "markdown",
   "metadata": {},
   "source": [
    "<div style=\"\">\n",
    "    <div style=\"float: left; width: 80%;\">\n",
    "        <a id=\"24\"></a>\n",
    "        <font><b>Task 24:</b></font>\n",
    "        <br><br>\n",
    "        Numpy compare with nonzero count\n",
    "    </div>\n",
    "    <div style=\"float: right;\">\n",
    "        <a href=\"#top\" class=\"btn btn-primary btn-sm\" role=\"button\" aria-pressed=\"true\" style=\"color:white\" data-toggle=\"popover\" title=\"go to Top\">Go to Top</a>\n",
    "    </div>\n",
    "    <br style=\"clear: left;\" />\n",
    "</div> "
   ]
  },
  {
   "cell_type": "code",
   "execution_count": null,
   "metadata": {},
   "outputs": [],
   "source": [
    "# 24. Numpy compare with nonzero count\n",
    "\n",
    "a = np.arange(12).reshape((3, 4))\n",
    "print('Before : ')\n",
    "print(a)\n",
    "\n",
    "print(np.count_nonzero(a > 5))\n",
    "\n",
    "print(a % 3 == 1)\n",
    "print(np.count_nonzero(a % 3 == 1))"
   ]
  },
  {
   "cell_type": "markdown",
   "metadata": {},
   "source": [
    "<div style=\"\">\n",
    "    <div style=\"float: left; width: 80%;\">\n",
    "        <a id=\"25\"></a>\n",
    "        <font><b>Task 25:</b></font>\n",
    "        <br><br>\n",
    "        Flip a numpy array by using flipud\n",
    "    </div>\n",
    "    <div style=\"float: right;\">\n",
    "        <a href=\"#top\" class=\"btn btn-primary btn-sm\" role=\"button\" aria-pressed=\"true\" style=\"color:white\" data-toggle=\"popover\" title=\"go to Top\">Go to Top</a>\n",
    "    </div>\n",
    "    <br style=\"clear: left;\" />\n",
    "</div> "
   ]
  },
  {
   "cell_type": "code",
   "execution_count": null,
   "metadata": {},
   "outputs": [],
   "source": [
    "# 25. Flip a numpy array by using flipud\n",
    "# flipup = flip ud = up / down\n",
    "\n",
    "a = np.arange(4).reshape(2, 2)\n",
    "print('Before : ')\n",
    "print(a)\n",
    "\n",
    "print('\\nAfter : ')\n",
    "b = np.flipud(a)\n",
    "print(b)\n",
    "\n",
    "# Note: b returns a view \n",
    "print('Shared memory? :', np.shares_memory(a, b))"
   ]
  },
  {
   "cell_type": "markdown",
   "metadata": {},
   "source": [
    "<div style=\"\">\n",
    "    <div style=\"float: left; width: 80%;\">\n",
    "        <a id=\"26\"></a>\n",
    "        <font><b>Task 26:</b></font>\n",
    "        <br><br>\n",
    "        Flip a numpy array by using flipud without sharing the memory\n",
    "    </div>\n",
    "    <div style=\"float: right;\">\n",
    "        <a href=\"#top\" class=\"btn btn-primary btn-sm\" role=\"button\" aria-pressed=\"true\" style=\"color:white\" data-toggle=\"popover\" title=\"go to Top\">Go to Top</a>\n",
    "    </div>\n",
    "    <br style=\"clear: left;\" />\n",
    "</div> "
   ]
  },
  {
   "cell_type": "code",
   "execution_count": null,
   "metadata": {},
   "outputs": [],
   "source": [
    "# 26. Flip a numpy array by using flipud without sharing the memory\n",
    "\n",
    "a = np.arange(4).reshape(2, 2)\n",
    "print('Before : ')\n",
    "print(a)\n",
    "\n",
    "print('\\nAfter : ')\n",
    "b = np.flipud(a).copy()\n",
    "print(b)\n",
    "\n",
    "# Note: b returns a view \n",
    "print('Shared memory? :', np.shares_memory(a, b))"
   ]
  },
  {
   "cell_type": "markdown",
   "metadata": {},
   "source": [
    "<div style=\"\">\n",
    "    <div style=\"float: left; width: 80%;\">\n",
    "        <a id=\"27\"></a>\n",
    "        <font><b>Task 27:</b></font>\n",
    "        <br><br>\n",
    "        Flip a numpy array by using fliplr (horizontally)\n",
    "    </div>\n",
    "    <div style=\"float: right;\">\n",
    "        <a href=\"#top\" class=\"btn btn-primary btn-sm\" role=\"button\" aria-pressed=\"true\" style=\"color:white\" data-toggle=\"popover\" title=\"go to Top\">Go to Top</a>\n",
    "    </div>\n",
    "    <br style=\"clear: left;\" />\n",
    "</div> "
   ]
  },
  {
   "cell_type": "code",
   "execution_count": null,
   "metadata": {},
   "outputs": [],
   "source": [
    "# 27. Flip a numpy array by using fliplr (horizontally)\n",
    "\n",
    "a = np.arange(10).reshape(2, 5)\n",
    "print('Before : ')\n",
    "print(a)\n",
    "\n",
    "print('\\nAfter : ')\n",
    "b = np.fliplr(a)\n",
    "print(b)"
   ]
  },
  {
   "cell_type": "markdown",
   "metadata": {},
   "source": [
    "<div style=\"\">\n",
    "    <div style=\"float: left; width: 80%;\">\n",
    "        <a id=\"28\"></a>\n",
    "        <font><b>Task 28:</b></font>\n",
    "        <br><br>\n",
    "        Flip a numpy array by using flip (both horizontally and vertically)\n",
    "    </div>\n",
    "    <div style=\"float: right;\">\n",
    "        <a href=\"#top\" class=\"btn btn-primary btn-sm\" role=\"button\" aria-pressed=\"true\" style=\"color:white\" data-toggle=\"popover\" title=\"go to Top\">Go to Top</a>\n",
    "    </div>\n",
    "    <br style=\"clear: left;\" />\n",
    "</div> "
   ]
  },
  {
   "cell_type": "code",
   "execution_count": null,
   "metadata": {},
   "outputs": [],
   "source": [
    "# 28. Flip a numpy array by using flip (both horizontally and vertically)\n",
    "\n",
    "a = np.arange(10).reshape(2, 5)\n",
    "print('Before : ')\n",
    "print(a)\n",
    "\n",
    "print('\\nAfter : ')\n",
    "b = np.flip(a)\n",
    "print(b)"
   ]
  },
  {
   "cell_type": "markdown",
   "metadata": {},
   "source": [
    "<div style=\"\">\n",
    "    <div style=\"float: left; width: 80%;\">\n",
    "        <a id=\"29\"></a>\n",
    "        <font><b>Task 29:</b></font>\n",
    "        <br><br>\n",
    "        Flipping the numpy array using slices\n",
    "    </div>\n",
    "    <div style=\"float: right;\">\n",
    "        <a href=\"#top\" class=\"btn btn-primary btn-sm\" role=\"button\" aria-pressed=\"true\" style=\"color:white\" data-toggle=\"popover\" title=\"go to Top\">Go to Top</a>\n",
    "    </div>\n",
    "    <br style=\"clear: left;\" />\n",
    "</div> "
   ]
  },
  {
   "cell_type": "code",
   "execution_count": null,
   "metadata": {},
   "outputs": [],
   "source": [
    "# 29. Flipping the numpy array using slices\n",
    "\n",
    "a = np.arange(10).reshape(2, 5)\n",
    "print('Before : ')\n",
    "print(a)\n",
    "\n",
    "print('\\nAfter : ')\n",
    "b = a[::-1, ::-1]\n",
    "print(b)"
   ]
  },
  {
   "cell_type": "markdown",
   "metadata": {},
   "source": [
    "<div style=\"\">\n",
    "    <div style=\"float: left; width: 80%;\">\n",
    "        <a id=\"30\"></a>\n",
    "        <font><b>Task 30:</b></font>\n",
    "        <br><br>\n",
    "        Convert numpy array to list\n",
    "    </div>\n",
    "    <div style=\"float: right;\">\n",
    "        <a href=\"#top\" class=\"btn btn-primary btn-sm\" role=\"button\" aria-pressed=\"true\" style=\"color:white\" data-toggle=\"popover\" title=\"go to Top\">Go to Top</a>\n",
    "    </div>\n",
    "    <br style=\"clear: left;\" />\n",
    "</div> "
   ]
  },
  {
   "cell_type": "code",
   "execution_count": null,
   "metadata": {},
   "outputs": [],
   "source": [
    "# 30. Convert numpy array to list\n",
    "\n",
    "a = np.arange(10).reshape(2, 5)\n",
    "print('Before : ')\n",
    "print(a)\n",
    "# print(d.dtype)\n",
    "print(type(a))\n",
    "print(type(a[0]))\n",
    "print(type(a[0][0]))\n",
    "\n",
    "b = a.tolist()\n",
    "print('\\nAfter : ')\n",
    "print(b)\n",
    "print(type(b))\n",
    "print(type(b[0]))\n",
    "print(type(b[0][0]))"
   ]
  },
  {
   "cell_type": "markdown",
   "metadata": {},
   "source": [
    "<div style=\"\">\n",
    "    <div style=\"float: left; width: 80%;\">\n",
    "        <a id=\"31\"></a>\n",
    "        <font><b>Task 31:</b></font>\n",
    "        <br><br>\n",
    "        Numpy Where\n",
    "    </div>\n",
    "    <div style=\"float: right;\">\n",
    "        <a href=\"#top\" class=\"btn btn-primary btn-sm\" role=\"button\" aria-pressed=\"true\" style=\"color:white\" data-toggle=\"popover\" title=\"go to Top\">Go to Top</a>\n",
    "    </div>\n",
    "    <br style=\"clear: left;\" />\n",
    "</div> "
   ]
  },
  {
   "cell_type": "code",
   "execution_count": null,
   "metadata": {},
   "outputs": [],
   "source": [
    "# 31. Numpy Where\n",
    "\n",
    "a = np.arange(8).reshape((2, 4))\n",
    "print('Before : ')\n",
    "print(a)\n",
    "\n",
    "print('\\nAfter : ')\n",
    "b = np.where(a < 4, 0, 20)\n",
    "print(b)\n",
    "\n",
    "# Note: it matches, replace with 0, if not replace with 20"
   ]
  },
  {
   "cell_type": "markdown",
   "metadata": {},
   "source": [
    "<div style=\"\">\n",
    "    <div style=\"float: left; width: 80%;\">\n",
    "        <a id=\"32\"></a>\n",
    "        <font><b>Task 32:</b></font>\n",
    "        <br><br>\n",
    "        Numpy where with multiple conditions\n",
    "    </div>\n",
    "    <div style=\"float: right;\">\n",
    "        <a href=\"#top\" class=\"btn btn-primary btn-sm\" role=\"button\" aria-pressed=\"true\" style=\"color:white\" data-toggle=\"popover\" title=\"go to Top\">Go to Top</a>\n",
    "    </div>\n",
    "    <br style=\"clear: left;\" />\n",
    "</div>"
   ]
  },
  {
   "cell_type": "code",
   "execution_count": null,
   "metadata": {},
   "outputs": [],
   "source": [
    "# 32. Numpy where with multiple conditions\n",
    "\n",
    "a = np.arange(8).reshape((2, 4))\n",
    "print('Before : ')\n",
    "print(a)\n",
    "\n",
    "print('\\nAfter : ')\n",
    "b = np.where((a > 3) & (a < 7), 0, 20)\n",
    "print(b)"
   ]
  },
  {
   "cell_type": "markdown",
   "metadata": {},
   "source": [
    "<div style=\"\">\n",
    "    <div style=\"float: left; width: 80%;\">\n",
    "        <a id=\"33\"></a>\n",
    "        <font><b>Task 33:</b></font>\n",
    "        <br><br>\n",
    "        Numpy where with multiple conditions - apply only on matching conditions\n",
    "    </div>\n",
    "    <div style=\"float: right;\">\n",
    "        <a href=\"#top\" class=\"btn btn-primary btn-sm\" role=\"button\" aria-pressed=\"true\" style=\"color:white\" data-toggle=\"popover\" title=\"go to Top\">Go to Top</a>\n",
    "    </div>\n",
    "    <br style=\"clear: left;\" />\n",
    "</div>"
   ]
  },
  {
   "cell_type": "code",
   "execution_count": null,
   "metadata": {},
   "outputs": [],
   "source": [
    "# 33. Numpy where with multiple conditions - apply only on matching conditions\n",
    "\n",
    "a = np.arange(10).reshape((2, 5))\n",
    "print('Before : ')\n",
    "print(a)\n",
    "\n",
    "print('\\nAfter : ')\n",
    "b = np.where((a > 3) & (a < 7), 0, a)\n",
    "print(b)"
   ]
  },
  {
   "cell_type": "markdown",
   "metadata": {},
   "source": [
    "<div style=\"\">\n",
    "    <div style=\"float: left; width: 80%;\">\n",
    "        <a id=\"34\"></a>\n",
    "        <font><b>Task 34:</b></font>\n",
    "        <br><br>\n",
    "        Process with where\n",
    "    </div>\n",
    "    <div style=\"float: right;\">\n",
    "        <a href=\"#top\" class=\"btn btn-primary btn-sm\" role=\"button\" aria-pressed=\"true\" style=\"color:white\" data-toggle=\"popover\" title=\"go to Top\">Go to Top</a>\n",
    "    </div>\n",
    "    <br style=\"clear: left;\" />\n",
    "</div>"
   ]
  },
  {
   "cell_type": "code",
   "execution_count": null,
   "metadata": {},
   "outputs": [],
   "source": [
    "# 34. Process with where\n",
    "\n",
    "a = np.arange(10).reshape((2, 5))\n",
    "print('Before : ')\n",
    "print(a)\n",
    "\n",
    "print('\\nAfter : ')\n",
    "b = np.where((a > 3) & (a < 7),  a * 3, 0)\n",
    "print(b)"
   ]
  },
  {
   "cell_type": "markdown",
   "metadata": {},
   "source": [
    "<div style=\"\">\n",
    "    <div style=\"float: left; width: 80%;\">\n",
    "        <a id=\"35\"></a>\n",
    "        <font><b>Task 35:</b></font>\n",
    "        <br><br>\n",
    "        List to numpy array\n",
    "    </div>\n",
    "    <div style=\"float: right;\">\n",
    "        <a href=\"#top\" class=\"btn btn-primary btn-sm\" role=\"button\" aria-pressed=\"true\" style=\"color:white\" data-toggle=\"popover\" title=\"go to Top\">Go to Top</a>\n",
    "    </div>\n",
    "    <br style=\"clear: left;\" />\n",
    "</div>"
   ]
  },
  {
   "cell_type": "code",
   "execution_count": null,
   "metadata": {},
   "outputs": [],
   "source": [
    "# 35. List to numpy array\n",
    "\n",
    "a = [0, 1, 2]\n",
    "print('Before : ')\n",
    "print(a)\n",
    "\n",
    "print('\\nAfter : ')\n",
    "b = np.array(a)\n",
    "print(b)\n",
    "print(b.dtype)"
   ]
  },
  {
   "cell_type": "markdown",
   "metadata": {},
   "source": [
    "<div style=\"\">\n",
    "    <div style=\"float: left; width: 80%;\">\n",
    "        <a id=\"36\"></a>\n",
    "        <font><b>Task 36:</b></font>\n",
    "        <br><br>\n",
    "        List to numpy array with explicit dtype\n",
    "    </div>\n",
    "    <div style=\"float: right;\">\n",
    "        <a href=\"#top\" class=\"btn btn-primary btn-sm\" role=\"button\" aria-pressed=\"true\" style=\"color:white\" data-toggle=\"popover\" title=\"go to Top\">Go to Top</a>\n",
    "    </div>\n",
    "    <br style=\"clear: left;\" />\n",
    "</div>"
   ]
  },
  {
   "cell_type": "code",
   "execution_count": null,
   "metadata": {},
   "outputs": [],
   "source": [
    "# 36. List to numpy array with explicit dtype\n",
    "\n",
    "a = [0, 1, 2]\n",
    "print('Before : ')\n",
    "print(a)\n",
    "\n",
    "print('\\nAfter : ')\n",
    "b = np.array(a, dtype = float)\n",
    "print(b)\n",
    "print(b.dtype)"
   ]
  },
  {
   "cell_type": "markdown",
   "metadata": {},
   "source": [
    "<div style=\"\">\n",
    "    <div style=\"float: left; width: 80%;\">\n",
    "        <a id=\"37\"></a>\n",
    "        <font><b>Task 37:</b></font>\n",
    "        <br><br>\n",
    "        2D list to numpy array\n",
    "    </div>\n",
    "    <div style=\"float: right;\">\n",
    "        <a href=\"#top\" class=\"btn btn-primary btn-sm\" role=\"button\" aria-pressed=\"true\" style=\"color:white\" data-toggle=\"popover\" title=\"go to Top\">Go to Top</a>\n",
    "    </div>\n",
    "    <br style=\"clear: left;\" />\n",
    "</div>"
   ]
  },
  {
   "cell_type": "code",
   "execution_count": null,
   "metadata": {},
   "outputs": [],
   "source": [
    "# 37. 2D list to numpy array\n",
    "\n",
    "a = [[0, 1, 2], [21, 22, 23]]\n",
    "print('Before : ')\n",
    "print(a)\n",
    "print(type(a))\n",
    "\n",
    "print('\\nAfter : ')\n",
    "b = np.array(a)\n",
    "print(b)\n",
    "print(type(b))\n",
    "print(b.dtype)\n",
    "print(b.shape)"
   ]
  },
  {
   "cell_type": "markdown",
   "metadata": {},
   "source": [
    "<div style=\"\">\n",
    "    <div style=\"float: left; width: 80%;\">\n",
    "        <a id=\"38\"></a>\n",
    "        <font><b>Task 38:</b></font>\n",
    "        <br><br>\n",
    "        Convert list to float numpy array\n",
    "    </div>\n",
    "    <div style=\"float: right;\">\n",
    "        <a href=\"#top\" class=\"btn btn-primary btn-sm\" role=\"button\" aria-pressed=\"true\" style=\"color:white\" data-toggle=\"popover\" title=\"go to Top\">Go to Top</a>\n",
    "    </div>\n",
    "    <br style=\"clear: left;\" />\n",
    "</div>"
   ]
  },
  {
   "cell_type": "code",
   "execution_count": null,
   "metadata": {},
   "outputs": [],
   "source": [
    "# 38. Convert list to float numpy array\n",
    "\n",
    "x = [1, 2]\n",
    "print('Before : ')\n",
    "print(x)\n",
    "print(type(x))\n",
    "\n",
    "print('\\nAfter : ')\n",
    "b = np.asfarray(x)\n",
    "print(b)\n",
    "print(type(b))\n",
    "print(b.dtype)\n",
    "\n",
    "print('\\nAfter : ')\n",
    "c = np.asarray(x, float)\n",
    "print(c)\n",
    "print(type(c))\n",
    "print(c.dtype)"
   ]
  },
  {
   "cell_type": "markdown",
   "metadata": {},
   "source": [
    "<div style=\"\">\n",
    "    <div style=\"float: left; width: 80%;\">\n",
    "        <a id=\"39\"></a>\n",
    "        <font><b>Task 39:</b></font>\n",
    "        <br><br>\n",
    "        Convert list to numpy array with explicit datatype\n",
    "    </div>\n",
    "    <div style=\"float: right;\">\n",
    "        <a href=\"#top\" class=\"btn btn-primary btn-sm\" role=\"button\" aria-pressed=\"true\" style=\"color:white\" data-toggle=\"popover\" title=\"go to Top\">Go to Top</a>\n",
    "    </div>\n",
    "    <br style=\"clear: left;\" />\n",
    "</div>"
   ]
  },
  {
   "cell_type": "code",
   "execution_count": null,
   "metadata": {},
   "outputs": [],
   "source": [
    "# 39. Convert list to numpy array with explicit datatype\n",
    "\n",
    "x = [1, 2]\n",
    "print('Before : ')\n",
    "print(x)\n",
    "print(type(x))\n",
    "\n",
    "print('\\nAfter : ')\n",
    "c = np.asarray(x, float)\n",
    "print(c)\n",
    "print(type(c))\n",
    "print(c.dtype)"
   ]
  },
  {
   "cell_type": "markdown",
   "metadata": {},
   "source": [
    "<div style=\"\">\n",
    "    <div style=\"float: left; width: 80%;\">\n",
    "        <a id=\"40\"></a>\n",
    "        <font><b>Task 40:</b></font>\n",
    "        <br><br>\n",
    "        Find common values between two numpy array\n",
    "    </div>\n",
    "    <div style=\"float: right;\">\n",
    "        <a href=\"#top\" class=\"btn btn-primary btn-sm\" role=\"button\" aria-pressed=\"true\" style=\"color:white\" data-toggle=\"popover\" title=\"go to Top\">Go to Top</a>\n",
    "    </div>\n",
    "    <br style=\"clear: left;\" />\n",
    "</div>"
   ]
  },
  {
   "cell_type": "code",
   "execution_count": null,
   "metadata": {},
   "outputs": [],
   "source": [
    "# 40. Find common values between two numpy array\n",
    "\n",
    "a = np.random.randint(0, 10, 10)\n",
    "b = np.random.randint(0, 10, 10)\n",
    "print(a)\n",
    "print(b)\n",
    "print('common values between a and b : ', np.intersect1d(a,b))"
   ]
  },
  {
   "cell_type": "markdown",
   "metadata": {},
   "source": [
    "<div style=\"\">\n",
    "    <div style=\"float: left; width: 80%;\">\n",
    "        <a id=\"41\"></a>\n",
    "        <font><b>Task 41:</b></font>\n",
    "        <br><br>\n",
    "        Get today in numpy and deltas\n",
    "    </div>\n",
    "    <div style=\"float: right;\">\n",
    "        <a href=\"#top\" class=\"btn btn-primary btn-sm\" role=\"button\" aria-pressed=\"true\" style=\"color:white\" data-toggle=\"popover\" title=\"go to Top\">Go to Top</a>\n",
    "    </div>\n",
    "    <br style=\"clear: left;\" />\n",
    "</div>"
   ]
  },
  {
   "cell_type": "code",
   "execution_count": null,
   "metadata": {},
   "outputs": [],
   "source": [
    "# 41. Get today in numpy and deltas\n",
    "\n",
    "today = np.datetime64('today', 'D')\n",
    "print('today          : ', today)\n",
    "\n",
    "after2days = np.datetime64('today', 'D') + np.timedelta64(2, 'D')\n",
    "print('after 2 days   : ', after2days)\n",
    "\n",
    "before3days = np.datetime64('today', 'D') - np.timedelta64(3, 'D')\n",
    "print('before 3 days  : ', before3days)\n",
    "\n",
    "after1week = np.datetime64('today', 'D') + np.timedelta64(1, 'W')\n",
    "print('after 1 week   : ', after1week)\n",
    "\n",
    "after10weeks = np.datetime64('today', 'D') + np.timedelta64(10, 'W')\n",
    "print('after 10 weeks : ', after10weeks)"
   ]
  },
  {
   "cell_type": "markdown",
   "metadata": {},
   "source": [
    "<div style=\"\">\n",
    "    <div style=\"float: left; width: 80%;\">\n",
    "        <a id=\"42\"></a>\n",
    "        <font><b>Task 42:</b></font>\n",
    "        <br><br>\n",
    "        Between two Dates\n",
    "    </div>\n",
    "    <div style=\"float: right;\">\n",
    "        <a href=\"#top\" class=\"btn btn-primary btn-sm\" role=\"button\" aria-pressed=\"true\" style=\"color:white\" data-toggle=\"popover\" title=\"go to Top\">Go to Top</a>\n",
    "    </div>\n",
    "    <br style=\"clear: left;\" />\n",
    "</div>"
   ]
  },
  {
   "cell_type": "code",
   "execution_count": null,
   "metadata": {},
   "outputs": [],
   "source": [
    "# 42. Between two Dates\n",
    "\n",
    "a = np.arange('2020-09-15', '2020-09-25', dtype='datetime64[D]')\n",
    "print('Between two dates : 2020-09-15 and 2020-09-25')\n",
    "print(a)\n",
    "\n",
    "a = np.arange('2020-09', '2020-10', dtype='datetime64[D]')\n",
    "print('\\nBetween 2 months : 2020-09 and 2020-10')\n",
    "print(a)"
   ]
  },
  {
   "cell_type": "markdown",
   "metadata": {},
   "source": [
    "<div style=\"\">\n",
    "    <div style=\"float: left; width: 80%;\">\n",
    "        <a id=\"43\"></a>\n",
    "        <font><b>Task 43:</b></font>\n",
    "        <br><br>\n",
    "        Random array and sorting\n",
    "    </div>\n",
    "    <div style=\"float: right;\">\n",
    "        <a href=\"#top\" class=\"btn btn-primary btn-sm\" role=\"button\" aria-pressed=\"true\" style=\"color:white\" data-toggle=\"popover\" title=\"go to Top\">Go to Top</a>\n",
    "    </div>\n",
    "    <br style=\"clear: left;\" />\n",
    "</div>"
   ]
  },
  {
   "cell_type": "code",
   "execution_count": null,
   "metadata": {},
   "outputs": [],
   "source": [
    "# 43. Random array and sorting\n",
    "\n",
    "a = np.random.random(5)\n",
    "\n",
    "print('Before : ')\n",
    "print(a)\n",
    "\n",
    "a.sort()\n",
    "print('\\nAfter : ')\n",
    "print(a)"
   ]
  },
  {
   "cell_type": "markdown",
   "metadata": {},
   "source": [
    "<div style=\"\">\n",
    "    <div style=\"float: left; width: 80%;\">\n",
    "        <a id=\"44\"></a>\n",
    "        <font><b>Task 44:</b></font>\n",
    "        <br><br>\n",
    "        Random int array and sorting\n",
    "    </div>\n",
    "    <div style=\"float: right;\">\n",
    "        <a href=\"#top\" class=\"btn btn-primary btn-sm\" role=\"button\" aria-pressed=\"true\" style=\"color:white\" data-toggle=\"popover\" title=\"go to Top\">Go to Top</a>\n",
    "    </div>\n",
    "    <br style=\"clear: left;\" />\n",
    "</div>"
   ]
  },
  {
   "cell_type": "code",
   "execution_count": null,
   "metadata": {},
   "outputs": [],
   "source": [
    "# 44. Random int array and sorting\n",
    "\n",
    "a = np.random.randint(50, 100, 5)\n",
    "\n",
    "print('Before : ')\n",
    "print(a)\n",
    "\n",
    "a.sort()\n",
    "print('\\nAfter : ')\n",
    "print(a)"
   ]
  },
  {
   "cell_type": "markdown",
   "metadata": {},
   "source": [
    "<div style=\"\">\n",
    "    <div style=\"float: left; width: 80%;\">\n",
    "        <a id=\"45\"></a>\n",
    "        <font><b>Task 45:</b></font>\n",
    "        <br><br>\n",
    "        String to nump,y array\n",
    "    </div>\n",
    "    <div style=\"float: right;\">\n",
    "        <a href=\"#top\" class=\"btn btn-primary btn-sm\" role=\"button\" aria-pressed=\"true\" style=\"color:white\" data-toggle=\"popover\" title=\"go to Top\">Go to Top</a>\n",
    "    </div>\n",
    "    <br style=\"clear: left;\" />\n",
    "</div>"
   ]
  },
  {
   "cell_type": "code",
   "execution_count": null,
   "metadata": {},
   "outputs": [],
   "source": [
    "# 45. String to nump,y array\n",
    "\n",
    "from io import StringIO\n",
    "\n",
    "content = StringIO('''\n",
    "1, 2, 3\n",
    "6, ,  8\n",
    "20, , 20\n",
    "''')\n",
    "a = np.genfromtxt(content, delimiter=\",\", dtype=np.int)\n",
    "print(a)"
   ]
  },
  {
   "cell_type": "markdown",
   "metadata": {},
   "source": [
    "<div style=\"\">\n",
    "    <div style=\"float: left; width: 80%;\">\n",
    "        <a id=\"46\"></a>\n",
    "        <font><b>Task 46:</b></font>\n",
    "        <br><br>\n",
    "        Find the nearest element in the array\n",
    "    </div>\n",
    "    <div style=\"float: right;\">\n",
    "        <a href=\"#top\" class=\"btn btn-primary btn-sm\" role=\"button\" aria-pressed=\"true\" style=\"color:white\" data-toggle=\"popover\" title=\"go to Top\">Go to Top</a>\n",
    "    </div>\n",
    "    <br style=\"clear: left;\" />\n",
    "</div>"
   ]
  },
  {
   "cell_type": "code",
   "execution_count": null,
   "metadata": {},
   "outputs": [],
   "source": [
    "# 46. Find the nearest element in the array\n",
    "\n",
    "a = np.arange(10, 60, 7)\n",
    "print(a)\n",
    "\n",
    "b = 23\n",
    "c = a.flat[np.abs(a - b).argmin()]\n",
    "print(f'Elemenet near by {b} : {c}')"
   ]
  },
  {
   "cell_type": "markdown",
   "metadata": {},
   "source": [
    "<div style=\"\">\n",
    "    <div style=\"float: left; width: 80%;\">\n",
    "        <a id=\"47\"></a>\n",
    "        <font><b>Task 47:</b></font>\n",
    "        <br><br>\n",
    "        Swap rows\n",
    "    </div>\n",
    "    <div style=\"float: right;\">\n",
    "        <a href=\"#top\" class=\"btn btn-primary btn-sm\" role=\"button\" aria-pressed=\"true\" style=\"color:white\" data-toggle=\"popover\" title=\"go to Top\">Go to Top</a>\n",
    "    </div>\n",
    "    <br style=\"clear: left;\" />\n",
    "</div>"
   ]
  },
  {
   "cell_type": "code",
   "execution_count": null,
   "metadata": {},
   "outputs": [],
   "source": [
    "# 47. Swap rows\n",
    "\n",
    "a = np.arange(9).reshape(3, 3)\n",
    "print('Before : ')\n",
    "print(a)\n",
    "\n",
    "a[[0,1]] = a[[1, 0]]\n",
    "\n",
    "print('\\nAfter : ')\n",
    "print(a)"
   ]
  },
  {
   "cell_type": "markdown",
   "metadata": {},
   "source": [
    "<div style=\"\">\n",
    "    <div style=\"float: left; width: 80%;\">\n",
    "        <a id=\"48\"></a>\n",
    "        <font><b>Task 48:</b></font>\n",
    "        <br><br>\n",
    "        Shuffle\n",
    "    </div>\n",
    "    <div style=\"float: right;\">\n",
    "        <a href=\"#top\" class=\"btn btn-primary btn-sm\" role=\"button\" aria-pressed=\"true\" style=\"color:white\" data-toggle=\"popover\" title=\"go to Top\">Go to Top</a>\n",
    "    </div>\n",
    "    <br style=\"clear: left;\" />\n",
    "</div>"
   ]
  },
  {
   "cell_type": "code",
   "execution_count": null,
   "metadata": {},
   "outputs": [],
   "source": [
    "# 48. Shuffle\n",
    "\n",
    "a = np.arange(20)\n",
    "print('Before : ')\n",
    "print(a)\n",
    "\n",
    "np.random.shuffle(a)\n",
    "\n",
    "print('\\nAfter : ')\n",
    "print(a)"
   ]
  },
  {
   "cell_type": "markdown",
   "metadata": {},
   "source": [
    "<div style=\"\">\n",
    "    <div style=\"float: left; width: 80%;\">\n",
    "        <a id=\"49\"></a>\n",
    "        <font><b>Task 49:</b></font>\n",
    "        <br><br>\n",
    "        Get specific element\n",
    "    </div>\n",
    "    <div style=\"float: right;\">\n",
    "        <a href=\"#top\" class=\"btn btn-primary btn-sm\" role=\"button\" aria-pressed=\"true\" style=\"color:white\" data-toggle=\"popover\" title=\"go to Top\">Go to Top</a>\n",
    "    </div>\n",
    "    <br style=\"clear: left;\" />\n",
    "</div>"
   ]
  },
  {
   "cell_type": "code",
   "execution_count": null,
   "metadata": {},
   "outputs": [],
   "source": [
    "# 49. Get specific element\n",
    "\n",
    "a = np.arange(27).reshape(3, 3, 3)\n",
    "print(a)\n",
    "\n",
    "print(a[0, 1, 1])"
   ]
  },
  {
   "cell_type": "markdown",
   "metadata": {},
   "source": [
    "<div style=\"\">\n",
    "    <div style=\"float: left; width: 80%;\">\n",
    "        <a id=\"50\"></a>\n",
    "        <font><b>Task 50:</b></font>\n",
    "        <br><br>\n",
    "        Repeat an array\n",
    "    </div>\n",
    "    <div style=\"float: right;\">\n",
    "        <a href=\"#top\" class=\"btn btn-primary btn-sm\" role=\"button\" aria-pressed=\"true\" style=\"color:white\" data-toggle=\"popover\" title=\"go to Top\">Go to Top</a>\n",
    "    </div>\n",
    "    <br style=\"clear: left;\" />\n",
    "</div>"
   ]
  },
  {
   "cell_type": "code",
   "execution_count": null,
   "metadata": {},
   "outputs": [],
   "source": [
    "# 50. Repeat an array\n",
    "\n",
    "a = np.array([[1, 2, 3]])\n",
    "print('Before : ')\n",
    "print(a)\n",
    "\n",
    "b = np.repeat(a, 3, axis=0)\n",
    "print('\\nAfter : ')\n",
    "print(b)"
   ]
  },
  {
   "cell_type": "markdown",
   "metadata": {},
   "source": [
    "<div style=\"\">\n",
    "    <div style=\"float: left; width: 80%;\">\n",
    "        <a id=\"51\"></a>\n",
    "        <font><b>Task 51:</b></font>\n",
    "        <br><br>\n",
    "        Min, Max, Sum\n",
    "    </div>\n",
    "    <div style=\"float: right;\">\n",
    "        <a href=\"#top\" class=\"btn btn-primary btn-sm\" role=\"button\" aria-pressed=\"true\" style=\"color:white\" data-toggle=\"popover\" title=\"go to Top\">Go to Top</a>\n",
    "    </div>\n",
    "    <br style=\"clear: left;\" />\n",
    "</div>"
   ]
  },
  {
   "cell_type": "code",
   "execution_count": null,
   "metadata": {},
   "outputs": [],
   "source": [
    "# 51. Min, Max, Sum\n",
    "\n",
    "a = np.arange(6).reshape(2, 3)\n",
    "a += 1\n",
    "print(a)\n",
    "\n",
    "a_mean = np.min(a)\n",
    "print('Mean : ', a_mean)\n",
    "\n",
    "a_max = np.max(a)\n",
    "print('Max : ', a_max)\n",
    "\n",
    "a_sum = np.sum(a)\n",
    "print('Sum : ', a_sum)"
   ]
  },
  {
   "cell_type": "markdown",
   "metadata": {},
   "source": [
    "<div style=\"\">\n",
    "    <div style=\"float: left; width: 80%;\">\n",
    "        <a id=\"52\"></a>\n",
    "        <font><b>Task 52:</b></font>\n",
    "        <br><br>\n",
    "        Get min of axis = 1\n",
    "    </div>\n",
    "    <div style=\"float: right;\">\n",
    "        <a href=\"#top\" class=\"btn btn-primary btn-sm\" role=\"button\" aria-pressed=\"true\" style=\"color:white\" data-toggle=\"popover\" title=\"go to Top\">Go to Top</a>\n",
    "    </div>\n",
    "    <br style=\"clear: left;\" />\n",
    "</div>"
   ]
  },
  {
   "cell_type": "code",
   "execution_count": null,
   "metadata": {},
   "outputs": [],
   "source": [
    "# 52. Get min of axis = 1\n",
    "\n",
    "x = np.arange(10).reshape((2, 5))\n",
    "\n",
    "print('x:')\n",
    "print(x)\n",
    "\n",
    "print('\\nx.min(axis = 1) : ')\n",
    "print(x.min(axis = 1))"
   ]
  },
  {
   "cell_type": "markdown",
   "metadata": {},
   "source": [
    "<div style=\"\">\n",
    "    <div style=\"float: left; width: 80%;\">\n",
    "        <a id=\"53\"></a>\n",
    "        <font><b>Task 53:</b></font>\n",
    "        <br><br>\n",
    "        Using amin function\n",
    "    </div>\n",
    "    <div style=\"float: right;\">\n",
    "        <a href=\"#top\" class=\"btn btn-primary btn-sm\" role=\"button\" aria-pressed=\"true\" style=\"color:white\" data-toggle=\"popover\" title=\"go to Top\">Go to Top</a>\n",
    "    </div>\n",
    "    <br style=\"clear: left;\" />\n",
    "</div>"
   ]
  },
  {
   "cell_type": "code",
   "execution_count": null,
   "metadata": {},
   "outputs": [],
   "source": [
    "# 53. Using amin function\n",
    "\n",
    "x = np.arange(10).reshape((2, 5))\n",
    "print('x:')\n",
    "print(x)\n",
    "\n",
    "print('\\nnp.amin(x, 1) : ')\n",
    "print(np.amin(x, 1))"
   ]
  },
  {
   "cell_type": "markdown",
   "metadata": {},
   "source": [
    "<div style=\"\">\n",
    "    <div style=\"float: left; width: 80%;\">\n",
    "        <a id=\"54\"></a>\n",
    "        <font><b>Task 54:</b></font>\n",
    "        <br><br>\n",
    "        Using amax function\n",
    "    </div>\n",
    "    <div style=\"float: right;\">\n",
    "        <a href=\"#top\" class=\"btn btn-primary btn-sm\" role=\"button\" aria-pressed=\"true\" style=\"color:white\" data-toggle=\"popover\" title=\"go to Top\">Go to Top</a>\n",
    "    </div>\n",
    "    <br style=\"clear: left;\" />\n",
    "</div>"
   ]
  },
  {
   "cell_type": "code",
   "execution_count": null,
   "metadata": {},
   "outputs": [],
   "source": [
    "# 54. Using amax function\n",
    "\n",
    "x = np.arange(10).reshape((2, 5))\n",
    "print('x:')\n",
    "print(x)\n",
    "\n",
    "print('\\nnp.amax(x, 1) : ')\n",
    "print(np.amax(x, 1))"
   ]
  },
  {
   "cell_type": "markdown",
   "metadata": {},
   "source": [
    "<div style=\"\">\n",
    "    <div style=\"float: left; width: 80%;\">\n",
    "        <a id=\"55\"></a>\n",
    "        <font><b>Task 55:</b></font>\n",
    "        <br><br>\n",
    "        Get min of axis = 0\n",
    "    </div>\n",
    "    <div style=\"float: right;\">\n",
    "        <a href=\"#top\" class=\"btn btn-primary btn-sm\" role=\"button\" aria-pressed=\"true\" style=\"color:white\" data-toggle=\"popover\" title=\"go to Top\">Go to Top</a>\n",
    "    </div>\n",
    "    <br style=\"clear: left;\" />\n",
    "</div>"
   ]
  },
  {
   "cell_type": "code",
   "execution_count": null,
   "metadata": {},
   "outputs": [],
   "source": [
    "# 55. Get min of axis = 0\n",
    "\n",
    "x = np.arange(6).reshape((2, 3))\n",
    "print('x:')\n",
    "print(x)\n",
    "\n",
    "print('\\nx.min(axis = 0) : ')\n",
    "print(x.min(axis = 0))"
   ]
  },
  {
   "cell_type": "markdown",
   "metadata": {},
   "source": [
    "<div style=\"\">\n",
    "    <div style=\"float: left; width: 80%;\">\n",
    "        <a id=\"56\"></a>\n",
    "        <font><b>Task 56:</b></font>\n",
    "        <br><br>\n",
    "        Calculate 90th percentile of an axis\n",
    "    </div>\n",
    "    <div style=\"float: right;\">\n",
    "        <a href=\"#top\" class=\"btn btn-primary btn-sm\" role=\"button\" aria-pressed=\"true\" style=\"color:white\" data-toggle=\"popover\" title=\"go to Top\">Go to Top</a>\n",
    "    </div>\n",
    "    <br style=\"clear: left;\" />\n",
    "</div>"
   ]
  },
  {
   "cell_type": "code",
   "execution_count": null,
   "metadata": {},
   "outputs": [],
   "source": [
    "# 56. Calculate 90th percentile of an axis\n",
    "\n",
    "x = np.arange(6).reshape((2, 3))\n",
    "print('x:')\n",
    "print(x)\n",
    "\n",
    "print('\\nnp.percentile(x, 90, 0): ')\n",
    "print(np.percentile(x, 90, 0))"
   ]
  },
  {
   "cell_type": "markdown",
   "metadata": {},
   "source": [
    "<div style=\"\">\n",
    "    <div style=\"float: left; width: 80%;\">\n",
    "        <a id=\"57\"></a>\n",
    "        <font><b>Task 57:</b></font>\n",
    "        <br><br>\n",
    "        Find median\n",
    "    </div>\n",
    "    <div style=\"float: right;\">\n",
    "        <a href=\"#top\" class=\"btn btn-primary btn-sm\" role=\"button\" aria-pressed=\"true\" style=\"color:white\" data-toggle=\"popover\" title=\"go to Top\">Go to Top</a>\n",
    "    </div>\n",
    "    <br style=\"clear: left;\" />\n",
    "</div>"
   ]
  },
  {
   "cell_type": "code",
   "execution_count": null,
   "metadata": {},
   "outputs": [],
   "source": [
    "# 57. Find median\n",
    "\n",
    "x = np.arange(6).reshape((2, 3))\n",
    "print('x:')\n",
    "print(x)\n",
    "\n",
    "print('\\nnp.median(x): ')\n",
    "print(np.median(x))"
   ]
  },
  {
   "cell_type": "markdown",
   "metadata": {},
   "source": [
    "<div style=\"\">\n",
    "    <div style=\"float: left; width: 80%;\">\n",
    "        <a id=\"58\"></a>\n",
    "        <font><b>Task 58:</b></font>\n",
    "        <br><br>\n",
    "        Covariance matrix\n",
    "    </div>\n",
    "    <div style=\"float: right;\">\n",
    "        <a href=\"#top\" class=\"btn btn-primary btn-sm\" role=\"button\" aria-pressed=\"true\" style=\"color:white\" data-toggle=\"popover\" title=\"go to Top\">Go to Top</a>\n",
    "    </div>\n",
    "    <br style=\"clear: left;\" />\n",
    "</div>"
   ]
  },
  {
   "cell_type": "code",
   "execution_count": null,
   "metadata": {},
   "outputs": [],
   "source": [
    "# 58. Covariance matrix\n",
    "\n",
    "x = np.array([0, 1, 2])\n",
    "y = np.array([7, 8, 9])\n",
    "\n",
    "print('x:')\n",
    "print(x)\n",
    "print('\\ny:')\n",
    "print(y)\n",
    "\n",
    "print('\\nnp.cov(x, y): ')\n",
    "print(np.cov(x, y))\n",
    "\n",
    "# note: -1 means perfectly in opposite directions"
   ]
  },
  {
   "cell_type": "markdown",
   "metadata": {},
   "source": [
    "<div style=\"\">\n",
    "    <div style=\"float: left; width: 80%;\">\n",
    "        <a id=\"59\"></a>\n",
    "        <font><b>Task 59:</b></font>\n",
    "        <br><br>\n",
    "        Pearson product-moment correlation\n",
    "    </div>\n",
    "    <div style=\"float: right;\">\n",
    "        <a href=\"#top\" class=\"btn btn-primary btn-sm\" role=\"button\" aria-pressed=\"true\" style=\"color:white\" data-toggle=\"popover\" title=\"go to Top\">Go to Top</a>\n",
    "    </div>\n",
    "    <br style=\"clear: left;\" />\n",
    "</div>"
   ]
  },
  {
   "cell_type": "code",
   "execution_count": null,
   "metadata": {},
   "outputs": [],
   "source": [
    "# 59. Pearson product-moment correlation\n",
    "\n",
    "x = np.array([0, 1, 3])\n",
    "y = np.array([2, 4, 5])\n",
    "print('x:')\n",
    "print(x)\n",
    "print('\\ny:')\n",
    "print(y)\n",
    "\n",
    "print('\\nnp.corrcoef(x, y): ')\n",
    "print(np.corrcoef(x, y))"
   ]
  },
  {
   "cell_type": "markdown",
   "metadata": {},
   "source": [
    "<div style=\"\">\n",
    "    <div style=\"float: left; width: 80%;\">\n",
    "        <a id=\"60\"></a>\n",
    "        <font><b>Task 60:</b></font>\n",
    "        <br><br>\n",
    "        Cross correlation\n",
    "    </div>\n",
    "    <div style=\"float: right;\">\n",
    "        <a href=\"#top\" class=\"btn btn-primary btn-sm\" role=\"button\" aria-pressed=\"true\" style=\"color:white\" data-toggle=\"popover\" title=\"go to Top\">Go to Top</a>\n",
    "    </div>\n",
    "    <br style=\"clear: left;\" />\n",
    "</div>"
   ]
  },
  {
   "cell_type": "code",
   "execution_count": null,
   "metadata": {},
   "outputs": [],
   "source": [
    "# 60. Cross correlation\n",
    "\n",
    "x = np.array([0, 1, 3])\n",
    "y = np.array([2, 4, 5])\n",
    "print('x:')\n",
    "print(x)\n",
    "print('\\ny:')\n",
    "print(y)\n",
    "\n",
    "print('\\nnp.correlate(x, y): ')\n",
    "print(np.correlate(x, y))"
   ]
  },
  {
   "cell_type": "markdown",
   "metadata": {},
   "source": [
    "<div style=\"\">\n",
    "    <div style=\"float: left; width: 80%;\">\n",
    "        <a id=\"61\"></a>\n",
    "        <font><b>Task 61:</b></font>\n",
    "        <br><br>\n",
    "        Count the number of occurrences\n",
    "    </div>\n",
    "    <div style=\"float: right;\">\n",
    "        <a href=\"#top\" class=\"btn btn-primary btn-sm\" role=\"button\" aria-pressed=\"true\" style=\"color:white\" data-toggle=\"popover\" title=\"go to Top\">Go to Top</a>\n",
    "    </div>\n",
    "    <br style=\"clear: left;\" />\n",
    "</div>"
   ]
  },
  {
   "cell_type": "code",
   "execution_count": null,
   "metadata": {},
   "outputs": [],
   "source": [
    "# 61. Count the number of occurrences\n",
    "\n",
    "x = np.array([1, 2, 2, 1, 1, 1, 5, 5])\n",
    "\n",
    "print('x:')\n",
    "print(x)\n",
    "\n",
    "print('\\nnp.bincount(x): ')\n",
    "print(np.bincount(x))\n",
    "\n",
    "# how to interpret\n",
    "\n",
    "#    starts from 0\n",
    "#    ends with 5\n",
    "    \n",
    "#    0 appears 0 times\n",
    "#    1 appears 4 times\n",
    "#    ..."
   ]
  },
  {
   "cell_type": "markdown",
   "metadata": {},
   "source": [
    "<div style=\"\">\n",
    "    <div style=\"float: left; width: 80%;\">\n",
    "        <a id=\"62\"></a>\n",
    "        <font><b>Task 62:</b></font>\n",
    "        <br><br>\n",
    "        Create random int numpy array with specific shape\n",
    "    </div>\n",
    "    <div style=\"float: right;\">\n",
    "        <a href=\"#top\" class=\"btn btn-primary btn-sm\" role=\"button\" aria-pressed=\"true\" style=\"color:white\" data-toggle=\"popover\" title=\"go to Top\">Go to Top</a>\n",
    "    </div>\n",
    "    <br style=\"clear: left;\" />\n",
    "</div>"
   ]
  },
  {
   "cell_type": "code",
   "execution_count": null,
   "metadata": {},
   "outputs": [],
   "source": [
    "# 62. Create random int numpy array with specific shape\n",
    "\n",
    "x = np.random.randint(10, 20, (4, 2))\n",
    "\n",
    "print('np.random.randint(10, 20, (4, 2)):\\n')\n",
    "print(x)"
   ]
  },
  {
   "cell_type": "markdown",
   "metadata": {},
   "source": [
    "<div style=\"\">\n",
    "    <div style=\"float: left; width: 80%;\">\n",
    "        <a id=\"63\"></a>\n",
    "        <font><b>Task 63:</b></font>\n",
    "        <br><br>\n",
    "        Create 4 different integers from 0, 40.\n",
    "    </div>\n",
    "    <div style=\"float: right;\">\n",
    "        <a href=\"#top\" class=\"btn btn-primary btn-sm\" role=\"button\" aria-pressed=\"true\" style=\"color:white\" data-toggle=\"popover\" title=\"go to Top\">Go to Top</a>\n",
    "    </div>\n",
    "    <br style=\"clear: left;\" />\n",
    "</div>"
   ]
  },
  {
   "cell_type": "code",
   "execution_count": null,
   "metadata": {},
   "outputs": [],
   "source": [
    "# 63. Create 4 different integers from 0, 40. \n",
    "\n",
    "x = np.random.choice(40, 4, replace = False)\n",
    "\n",
    "print('np.random.choice(40, 4, replace = False):\\n')\n",
    "print(x)"
   ]
  },
  {
   "cell_type": "markdown",
   "metadata": {},
   "source": [
    "<div style=\"\">\n",
    "    <div style=\"float: left; width: 80%;\">\n",
    "        <a id=\"64\"></a>\n",
    "        <font><b>Task 64:</b></font>\n",
    "        <br><br>\n",
    "        Create 4 different integers from 0, 4. (It will throw error as we can't get 5 unique integers from 4)\n",
    "    </div>\n",
    "    <div style=\"float: right;\">\n",
    "        <a href=\"#top\" class=\"btn btn-primary btn-sm\" role=\"button\" aria-pressed=\"true\" style=\"color:white\" data-toggle=\"popover\" title=\"go to Top\">Go to Top</a>\n",
    "    </div>\n",
    "    <br style=\"clear: left;\" />\n",
    "</div>"
   ]
  },
  {
   "cell_type": "code",
   "execution_count": null,
   "metadata": {},
   "outputs": [],
   "source": [
    "# 64. Create 4 different integers from 0, 4. (It will throw error as we can't get 5 unique integers from 4)\n",
    "\n",
    "try:\n",
    "    x = np.random.choice(4, 5, replace = False)\n",
    "    \n",
    "    print('np.random.choice(4, 5, replace = False):\\n')\n",
    "    print(x)\n",
    "except Exception as err:\n",
    "    print('Error : ', err)\n",
    "\n",
    "# It is expected to throw an error"
   ]
  },
  {
   "cell_type": "markdown",
   "metadata": {},
   "source": [
    "<div style=\"\">\n",
    "    <div style=\"float: left; width: 80%;\">\n",
    "        <a id=\"65\"></a>\n",
    "        <font><b>Task 65:</b></font>\n",
    "        <br><br>\n",
    "        Shuffle\n",
    "    </div>\n",
    "    <div style=\"float: right;\">\n",
    "        <a href=\"#top\" class=\"btn btn-primary btn-sm\" role=\"button\" aria-pressed=\"true\" style=\"color:white\" data-toggle=\"popover\" title=\"go to Top\">Go to Top</a>\n",
    "    </div>\n",
    "    <br style=\"clear: left;\" />\n",
    "</div>"
   ]
  },
  {
   "cell_type": "code",
   "execution_count": null,
   "metadata": {},
   "outputs": [],
   "source": [
    "# 65. Shuffle\n",
    "\n",
    "x = np.arange(10)\n",
    "\n",
    "print('x Before shuffling:')\n",
    "print(x)\n",
    "\n",
    "print('\\nx After shuffling:')\n",
    "np.random.shuffle(x)\n",
    "print(x)"
   ]
  },
  {
   "cell_type": "markdown",
   "metadata": {},
   "source": [
    "<div style=\"\">\n",
    "    <div style=\"float: left; width: 80%;\">\n",
    "        <a id=\"66\"></a>\n",
    "        <font><b>Task 66:</b></font>\n",
    "        <br><br>\n",
    "        Shuffling by permutation\n",
    "    </div>\n",
    "    <div style=\"float: right;\">\n",
    "        <a href=\"#top\" class=\"btn btn-primary btn-sm\" role=\"button\" aria-pressed=\"true\" style=\"color:white\" data-toggle=\"popover\" title=\"go to Top\">Go to Top</a>\n",
    "    </div>\n",
    "    <br style=\"clear: left;\" />\n",
    "</div>"
   ]
  },
  {
   "cell_type": "code",
   "execution_count": null,
   "metadata": {},
   "outputs": [],
   "source": [
    "# 66. Shuffling by permutation\n",
    "\n",
    "x = np.arange(10)\n",
    "\n",
    "print('x Before shuffling (using permutation):')\n",
    "print(x)\n",
    "\n",
    "print('\\nx After shuffling (using permutation):')\n",
    "print(np.random.permutation(10))"
   ]
  },
  {
   "cell_type": "markdown",
   "metadata": {},
   "source": [
    "<div style=\"\">\n",
    "    <div style=\"float: left; width: 80%;\">\n",
    "        <a id=\"67\"></a>\n",
    "        <font><b>Task 67:</b></font>\n",
    "        <br><br>\n",
    "        Seed for random\n",
    "    </div>\n",
    "    <div style=\"float: right;\">\n",
    "        <a href=\"#top\" class=\"btn btn-primary btn-sm\" role=\"button\" aria-pressed=\"true\" style=\"color:white\" data-toggle=\"popover\" title=\"go to Top\">Go to Top</a>\n",
    "    </div>\n",
    "    <br style=\"clear: left;\" />\n",
    "</div>"
   ]
  },
  {
   "cell_type": "code",
   "execution_count": null,
   "metadata": {},
   "outputs": [],
   "source": [
    "# 67. Seed for random\n",
    "np.random.seed(12)\n",
    "\n",
    "a = np.random.rand(4)\n",
    "print('Random array after first seed:')\n",
    "print(a)\n",
    "\n",
    "np.random.seed(12)\n",
    "b = np.random.rand(4)\n",
    "print('\\nRandom array after second seed:')\n",
    "print(b)\n",
    "\n",
    "c = np.random.rand(4)\n",
    "print('\\nRandom array after no seed:')\n",
    "print(c)"
   ]
  },
  {
   "cell_type": "markdown",
   "metadata": {},
   "source": [
    "<div style=\"\">\n",
    "    <div style=\"float: left; width: 80%;\">\n",
    "        <a id=\"68\"></a>\n",
    "        <font><b>Task 68:</b></font>\n",
    "        <br><br>\n",
    "        Get unique elements\n",
    "    </div>\n",
    "    <div style=\"float: right;\">\n",
    "        <a href=\"#top\" class=\"btn btn-primary btn-sm\" role=\"button\" aria-pressed=\"true\" style=\"color:white\" data-toggle=\"popover\" title=\"go to Top\">Go to Top</a>\n",
    "    </div>\n",
    "    <br style=\"clear: left;\" />\n",
    "</div>"
   ]
  },
  {
   "cell_type": "code",
   "execution_count": null,
   "metadata": {},
   "outputs": [],
   "source": [
    "# 68. Get unique elements\n",
    "\n",
    "x = np.array([1, 2, 6, 4, 2, 3, 2])\n",
    "\n",
    "print('x:')\n",
    "print(x)\n",
    "\n",
    "out, indices = np.unique(x, return_inverse=True)\n",
    "\n",
    "print('\\nunique elements of x:')\n",
    "print(out)\n",
    "\n",
    "unique, counts = np.unique(x, return_counts=True)\n",
    "unique_dict = dict(zip(unique, counts))\n",
    "\n",
    "print('\\nunique elements and count:')\n",
    "print(unique_dict)\n",
    "\n",
    "import collections\n",
    "col_counter = collections.Counter(x)\n",
    "print('\\nunique elements and count by collections.counter:')\n",
    "print(col_counter)"
   ]
  },
  {
   "cell_type": "markdown",
   "metadata": {},
   "source": [
    "<div style=\"\">\n",
    "    <div style=\"float: left; width: 80%;\">\n",
    "        <a id=\"69\"></a>\n",
    "        <font><b>Task 69:</b></font>\n",
    "        <br><br>\n",
    "        Create a boolean array with a shape of x\n",
    "    </div>\n",
    "    <div style=\"float: right;\">\n",
    "        <a href=\"#top\" class=\"btn btn-primary btn-sm\" role=\"button\" aria-pressed=\"true\" style=\"color:white\" data-toggle=\"popover\" title=\"go to Top\">Go to Top</a>\n",
    "    </div>\n",
    "    <br style=\"clear: left;\" />\n",
    "</div>"
   ]
  },
  {
   "cell_type": "code",
   "execution_count": null,
   "metadata": {},
   "outputs": [],
   "source": [
    "# 69. Create a boolean array with a shape of x\n",
    "\n",
    "x = np.array([0, 1, 2, 5, 0])\n",
    "y = np.array([0, 1])\n",
    "\n",
    "print('x:')\n",
    "print(x)\n",
    "\n",
    "print('\\ny:')\n",
    "print(y)\n",
    "\n",
    "print('\\nnp.in1d(x, y):')\n",
    "print(np.in1d(x, y))"
   ]
  },
  {
   "cell_type": "markdown",
   "metadata": {},
   "source": [
    "<div style=\"\">\n",
    "    <div style=\"float: left; width: 80%;\">\n",
    "        <a id=\"70\"></a>\n",
    "        <font><b>Task 70:</b></font>\n",
    "        <br><br>\n",
    "        Find unique intersection\n",
    "    </div>\n",
    "    <div style=\"float: right;\">\n",
    "        <a href=\"#top\" class=\"btn btn-primary btn-sm\" role=\"button\" aria-pressed=\"true\" style=\"color:white\" data-toggle=\"popover\" title=\"go to Top\">Go to Top</a>\n",
    "    </div>\n",
    "    <br style=\"clear: left;\" />\n",
    "</div>"
   ]
  },
  {
   "cell_type": "code",
   "execution_count": null,
   "metadata": {},
   "outputs": [],
   "source": [
    "# 70. Find unique intersection\n",
    "\n",
    "x = np.array([0, 1, 2, 5, 0])\n",
    "y = np.array([0, 1, 4])\n",
    "\n",
    "print('x:')\n",
    "print(x)\n",
    "\n",
    "print('\\ny:')\n",
    "print(y)\n",
    "\n",
    "print('\\nnp.intersect1d(x, y):')\n",
    "print(np.intersect1d(x, y))"
   ]
  },
  {
   "cell_type": "markdown",
   "metadata": {},
   "source": [
    "<div style=\"\">\n",
    "    <div style=\"float: left; width: 80%;\">\n",
    "        <a id=\"71\"></a>\n",
    "        <font><b>Task 71:</b></font>\n",
    "        <br><br>\n",
    "        Find the diff\n",
    "    </div>\n",
    "    <div style=\"float: right;\">\n",
    "        <a href=\"#top\" class=\"btn btn-primary btn-sm\" role=\"button\" aria-pressed=\"true\" style=\"color:white\" data-toggle=\"popover\" title=\"go to Top\">Go to Top</a>\n",
    "    </div>\n",
    "    <br style=\"clear: left;\" />\n",
    "</div>"
   ]
  },
  {
   "cell_type": "code",
   "execution_count": null,
   "metadata": {},
   "outputs": [],
   "source": [
    "# 71. Find the diff\n",
    "\n",
    "x = np.array([0, 1, 2, 5, 0])\n",
    "y = np.array([0, 1, 4])\n",
    "\n",
    "print('x:')\n",
    "print(x)\n",
    "\n",
    "print('\\ny:')\n",
    "print(y)\n",
    "\n",
    "print('\\nnp.setdiff1d(x, y):')\n",
    "print(np.setdiff1d(x, y))"
   ]
  },
  {
   "cell_type": "markdown",
   "metadata": {},
   "source": [
    "<div style=\"\">\n",
    "    <div style=\"float: left; width: 80%;\">\n",
    "        <a id=\"72\"></a>\n",
    "        <font><b>Task 72:</b></font>\n",
    "        <br><br>\n",
    "        Trying to inverse a singular matrix\n",
    "    </div>\n",
    "    <div style=\"float: right;\">\n",
    "        <a href=\"#top\" class=\"btn btn-primary btn-sm\" role=\"button\" aria-pressed=\"true\" style=\"color:white\" data-toggle=\"popover\" title=\"go to Top\">Go to Top</a>\n",
    "    </div>\n",
    "    <br style=\"clear: left;\" />\n",
    "</div>"
   ]
  },
  {
   "cell_type": "code",
   "execution_count": null,
   "metadata": {},
   "outputs": [],
   "source": [
    "# 72. Trying to inverse a singular matrix\n",
    "\n",
    "b = np.array([[2,3],[4,6]])\n",
    "\n",
    "try:\n",
    "    np.linalg.inv(b)\n",
    "except Exception as err:\n",
    "    print('Error : ', err)\n",
    "    \n",
    "# Note: Singular Matrix can't be inversed"
   ]
  },
  {
   "cell_type": "markdown",
   "metadata": {},
   "source": [
    "<div style=\"\">\n",
    "    <div style=\"float: left; width: 80%;\">\n",
    "        <a id=\"73\"></a>\n",
    "        <font><b>Task 73:</b></font>\n",
    "        <br><br>\n",
    "        Find the union\n",
    "    </div>\n",
    "    <div style=\"float: right;\">\n",
    "        <a href=\"#top\" class=\"btn btn-primary btn-sm\" role=\"button\" aria-pressed=\"true\" style=\"color:white\" data-toggle=\"popover\" title=\"go to Top\">Go to Top</a>\n",
    "    </div>\n",
    "    <br style=\"clear: left;\" />\n",
    "</div>"
   ]
  },
  {
   "cell_type": "code",
   "execution_count": null,
   "metadata": {},
   "outputs": [],
   "source": [
    "# 73. Find the union\n",
    "\n",
    "x = np.array([0, 1, 2, 5, 0])\n",
    "y = np.array([0, 1, 4])\n",
    "\n",
    "print('x:')\n",
    "print(x)\n",
    "\n",
    "print('\\ny:')\n",
    "print(y)\n",
    "\n",
    "z = np.union1d(x, y)\n",
    "print('\\nnp.union1d(x, y):')\n",
    "print(z)"
   ]
  },
  {
   "cell_type": "markdown",
   "metadata": {},
   "source": [
    "<div style=\"\">\n",
    "    <div style=\"float: left; width: 80%;\">\n",
    "        <a id=\"74\"></a>\n",
    "        <font><b>Task 74:</b></font>\n",
    "        <br><br>\n",
    "        Element Sum\n",
    "    </div>\n",
    "    <div style=\"float: right;\">\n",
    "        <a href=\"#top\" class=\"btn btn-primary btn-sm\" role=\"button\" aria-pressed=\"true\" style=\"color:white\" data-toggle=\"popover\" title=\"go to Top\">Go to Top</a>\n",
    "    </div>\n",
    "    <br style=\"clear: left;\" />\n",
    "</div>"
   ]
  },
  {
   "cell_type": "code",
   "execution_count": null,
   "metadata": {},
   "outputs": [],
   "source": [
    "# 74. Element Sum\n",
    "\n",
    "x = np.array([0, 0, 1, 2, 1, 1, 0, 0, 0])\n",
    "print('Original Array:')\n",
    "print(x)\n",
    "\n",
    "num_zeros = (x == 0).sum()\n",
    "num_ones = (x == 1).sum()\n",
    "\n",
    "print('\\nzeros sum:')\n",
    "print(num_zeros)\n",
    "\n",
    "print('\\nones sum:')\n",
    "print(num_ones)\n",
    "\n",
    "print('\\nones sum by using list:')\n",
    "x_list = list(x)\n",
    "print(x_list.count(1))"
   ]
  },
  {
   "cell_type": "markdown",
   "metadata": {},
   "source": [
    "<div style=\"\">\n",
    "    <div style=\"float: left; width: 80%;\">\n",
    "        <a id=\"75\"></a>\n",
    "        <font><b>Task 75:</b></font>\n",
    "        <br><br>\n",
    "        Pretty print - suppress the scientific notation\n",
    "    </div>\n",
    "    <div style=\"float: right;\">\n",
    "        <a href=\"#top\" class=\"btn btn-primary btn-sm\" role=\"button\" aria-pressed=\"true\" style=\"color:white\" data-toggle=\"popover\" title=\"go to Top\">Go to Top</a>\n",
    "    </div>\n",
    "    <br style=\"clear: left;\" />\n",
    "</div>"
   ]
  },
  {
   "cell_type": "code",
   "execution_count": null,
   "metadata": {},
   "outputs": [],
   "source": [
    "# 75. Pretty print - suppress the scientific notation\n",
    "\n",
    "x = np.array([1.2e-10, 2.1, 23])\n",
    "print('Before:')\n",
    "print(x)\n",
    "\n",
    "np.set_printoptions(suppress = True)\n",
    "print('\\nAfter suppressing the scientific notation:')\n",
    "print(x)\n",
    "\n",
    "# reset\n",
    "np.set_printoptions(suppress = False)"
   ]
  },
  {
   "cell_type": "markdown",
   "metadata": {},
   "source": [
    "<div style=\"\">\n",
    "    <div style=\"float: left; width: 80%;\">\n",
    "        <a id=\"76\"></a>\n",
    "        <font><b>Task 76:</b></font>\n",
    "        <br><br>\n",
    "        Print with decimal format\n",
    "    </div>\n",
    "    <div style=\"float: right;\">\n",
    "        <a href=\"#top\" class=\"btn btn-primary btn-sm\" role=\"button\" aria-pressed=\"true\" style=\"color:white\" data-toggle=\"popover\" title=\"go to Top\">Go to Top</a>\n",
    "    </div>\n",
    "    <br style=\"clear: left;\" />\n",
    "</div>"
   ]
  },
  {
   "cell_type": "code",
   "execution_count": null,
   "metadata": {},
   "outputs": [],
   "source": [
    "# 76. Print with decimal format\n",
    "\n",
    "x = np.array([1.24500, 1.0000])\n",
    "print('Before:')\n",
    "print(x)\n",
    "\n",
    "np.set_printoptions(formatter={'float': '{: 0.2f}'.format})\n",
    "print('\\nAfter formattting the float:')\n",
    "print(x)\n",
    "\n",
    "# Not sure how to reset it"
   ]
  },
  {
   "cell_type": "markdown",
   "metadata": {},
   "source": [
    "<div style=\"\">\n",
    "    <div style=\"float: left; width: 80%;\">\n",
    "        <a id=\"77\"></a>\n",
    "        <font><b>Task 77:</b></font>\n",
    "        <br><br>\n",
    "        Convert flot array to int array\n",
    "    </div>\n",
    "    <div style=\"float: right;\">\n",
    "        <a href=\"#top\" class=\"btn btn-primary btn-sm\" role=\"button\" aria-pressed=\"true\" style=\"color:white\" data-toggle=\"popover\" title=\"go to Top\">Go to Top</a>\n",
    "    </div>\n",
    "    <br style=\"clear: left;\" />\n",
    "</div>"
   ]
  },
  {
   "cell_type": "code",
   "execution_count": null,
   "metadata": {},
   "outputs": [],
   "source": [
    "# 77. Convert flot array to int array\n",
    "\n",
    "x = np.array([[2.0, 8.8], [2.3, 1.9]])\n",
    "print('Before:')\n",
    "print(x)\n",
    "\n",
    "y = x.astype(int)\n",
    "print('\\nAfter changing the datatype:')\n",
    "print(y)\n",
    "\n",
    "z = np.int_(x)\n",
    "print('\\nAfter changing the datatype by using int_:')\n",
    "print(z)"
   ]
  },
  {
   "cell_type": "markdown",
   "metadata": {},
   "source": [
    "<div style=\"\">\n",
    "    <div style=\"float: left; width: 80%;\">\n",
    "        <a id=\"78\"></a>\n",
    "        <font><b>Task 78:</b></font>\n",
    "        <br><br>\n",
    "        array vs asarray\n",
    "    </div>\n",
    "    <div style=\"float: right;\">\n",
    "        <a href=\"#top\" class=\"btn btn-primary btn-sm\" role=\"button\" aria-pressed=\"true\" style=\"color:white\" data-toggle=\"popover\" title=\"go to Top\">Go to Top</a>\n",
    "    </div>\n",
    "    <br style=\"clear: left;\" />\n",
    "</div>"
   ]
  },
  {
   "cell_type": "code",
   "execution_count": null,
   "metadata": {},
   "outputs": [],
   "source": [
    "# 78. array vs asarray\n",
    "\n",
    "x = np.matrix(np.ones((3,3)))\n",
    "print('Before:')\n",
    "print(x)\n",
    "\n",
    "\n",
    "np.array(x)[2] = 2\n",
    "print('\\nAfter changing elements by array:')\n",
    "print(x)\n",
    "\n",
    "np.asarray(x)[2] = 2\n",
    "print('\\nAfter changing elements by asarray:')\n",
    "print(x)"
   ]
  },
  {
   "cell_type": "markdown",
   "metadata": {},
   "source": [
    "<div style=\"\">\n",
    "    <div style=\"float: left; width: 80%;\">\n",
    "        <a id=\"79\"></a>\n",
    "        <font><b>Task 79:</b></font>\n",
    "        <br><br>\n",
    "        Numpy Datetime\n",
    "    </div>\n",
    "    <div style=\"float: right;\">\n",
    "        <a href=\"#top\" class=\"btn btn-primary btn-sm\" role=\"button\" aria-pressed=\"true\" style=\"color:white\" data-toggle=\"popover\" title=\"go to Top\">Go to Top</a>\n",
    "    </div>\n",
    "    <br style=\"clear: left;\" />\n",
    "</div>"
   ]
  },
  {
   "cell_type": "code",
   "execution_count": null,
   "metadata": {},
   "outputs": [],
   "source": [
    "# 79. Numpy Datetime\n",
    "\n",
    "x = np.datetime64('2020-09-30')\n",
    "print('Sample numpy datetime:')\n",
    "print(x)\n",
    "# print(type(x))\n",
    "\n",
    "x1 = np.datetime64('2020-09', 'D')\n",
    "print('\\nNumpy Datetime with forcing D option:')\n",
    "print(x1)\n",
    "# print(type(x1))"
   ]
  },
  {
   "cell_type": "markdown",
   "metadata": {},
   "source": [
    "<div style=\"\">\n",
    "    <div style=\"float: left; width: 80%;\">\n",
    "        <a id=\"80\"></a>\n",
    "        <font><b>Task 80:</b></font>\n",
    "        <br><br>\n",
    "        Numpy Datetime with arange\n",
    "    </div>\n",
    "    <div style=\"float: right;\">\n",
    "        <a href=\"#top\" class=\"btn btn-primary btn-sm\" role=\"button\" aria-pressed=\"true\" style=\"color:white\" data-toggle=\"popover\" title=\"go to Top\">Go to Top</a>\n",
    "    </div>\n",
    "    <br style=\"clear: left;\" />\n",
    "</div>"
   ]
  },
  {
   "cell_type": "code",
   "execution_count": null,
   "metadata": {},
   "outputs": [],
   "source": [
    "# 80. Numpy Datetime with arange\n",
    "\n",
    "x = np.arange('2020-02', '2020-06', dtype = 'datetime64[M]')\n",
    "print('\\nNumpy Datetime range with forcing month:')\n",
    "print(x)\n",
    "\n",
    "\n",
    "y = np.arange('2020-02', '2020-06', dtype = 'datetime64[D]')\n",
    "print('\\nNumpy Datetime range with forcing date:')\n",
    "print(y)"
   ]
  },
  {
   "cell_type": "markdown",
   "metadata": {},
   "source": [
    "<div style=\"\">\n",
    "    <div style=\"float: left; width: 80%;\">\n",
    "        <a id=\"81\"></a>\n",
    "        <font><b>Task 81:</b></font>\n",
    "        <br><br>\n",
    "        Compare Numpy datetime\n",
    "    </div>\n",
    "    <div style=\"float: right;\">\n",
    "        <a href=\"#top\" class=\"btn btn-primary btn-sm\" role=\"button\" aria-pressed=\"true\" style=\"color:white\" data-toggle=\"popover\" title=\"go to Top\">Go to Top</a>\n",
    "    </div>\n",
    "    <br style=\"clear: left;\" />\n",
    "</div>"
   ]
  },
  {
   "cell_type": "code",
   "execution_count": null,
   "metadata": {},
   "outputs": [],
   "source": [
    "# 81. Compare Numpy datetime\n",
    "\n",
    "print(\"np.datetime64('2020') == np.datetime64('2020-01-01'):\")\n",
    "print(np.datetime64('2020') == np.datetime64('2020-01-01'))\n",
    "\n",
    "print(\"\\nnp.datetime64('2020-01') == np.datetime64('2020-01-02'):\")\n",
    "print(np.datetime64('2020-01') == np.datetime64('2020-01-02'))"
   ]
  },
  {
   "cell_type": "markdown",
   "metadata": {},
   "source": [
    "<div style=\"\">\n",
    "    <div style=\"float: left; width: 80%;\">\n",
    "        <a id=\"82\"></a>\n",
    "        <font><b>Task 82:</b></font>\n",
    "        <br><br>\n",
    "        Numpy 2D array flat list\n",
    "    </div>\n",
    "    <div style=\"float: right;\">\n",
    "        <a href=\"#top\" class=\"btn btn-primary btn-sm\" role=\"button\" aria-pressed=\"true\" style=\"color:white\" data-toggle=\"popover\" title=\"go to Top\">Go to Top</a>\n",
    "    </div>\n",
    "    <br style=\"clear: left;\" />\n",
    "</div>"
   ]
  },
  {
   "cell_type": "code",
   "execution_count": null,
   "metadata": {},
   "outputs": [],
   "source": [
    "# 82. Numpy 2D array flat list\n",
    "\n",
    "import numpy as np\n",
    "from itertools import chain\n",
    "\n",
    "a = np.arange(12).reshape(2, 3, 2)\n",
    "print('Before:')\n",
    "print(a)\n",
    "\n",
    "b = a.tolist()\n",
    "print('\\nAfter tolist:')\n",
    "print(b)\n",
    "\n",
    "c = list(chain.from_iterable(a))\n",
    "print('\\nAfter flattening the array to list:')\n",
    "print(c)"
   ]
  },
  {
   "cell_type": "markdown",
   "metadata": {},
   "source": [
    "<div style=\"\">\n",
    "    <div style=\"float: left; width: 80%;\">\n",
    "        <a id=\"83\"></a>\n",
    "        <font><b>Task 83:</b></font>\n",
    "        <br><br>\n",
    "        Numpy 2D array to flat list\n",
    "    </div>\n",
    "    <div style=\"float: right;\">\n",
    "        <a href=\"#top\" class=\"btn btn-primary btn-sm\" role=\"button\" aria-pressed=\"true\" style=\"color:white\" data-toggle=\"popover\" title=\"go to Top\">Go to Top</a>\n",
    "    </div>\n",
    "    <br style=\"clear: left;\" />\n",
    "</div>"
   ]
  },
  {
   "cell_type": "code",
   "execution_count": null,
   "metadata": {},
   "outputs": [],
   "source": [
    "# 83. Numpy 2D array to flat list\n",
    "\n",
    "a = np.arange(6).reshape(2, 3)\n",
    "print('Before:')\n",
    "print(a)\n",
    "\n",
    "b = list(a.flatten())\n",
    "print('\\nAfter flattening the array to list:')\n",
    "print(b)"
   ]
  },
  {
   "cell_type": "markdown",
   "metadata": {},
   "source": [
    "<div style=\"\">\n",
    "    <div style=\"float: left; width: 80%;\">\n",
    "        <a id=\"84\"></a>\n",
    "        <font><b>Task 84:</b></font>\n",
    "        <br><br>\n",
    "        Numpy array to Pandas Dataframe\n",
    "    </div>\n",
    "    <div style=\"float: right;\">\n",
    "        <a href=\"#top\" class=\"btn btn-primary btn-sm\" role=\"button\" aria-pressed=\"true\" style=\"color:white\" data-toggle=\"popover\" title=\"go to Top\">Go to Top</a>\n",
    "    </div>\n",
    "    <br style=\"clear: left;\" />\n",
    "</div>"
   ]
  },
  {
   "cell_type": "code",
   "execution_count": null,
   "metadata": {},
   "outputs": [],
   "source": [
    "# 84. Numpy array to Pandas Dataframe\n",
    "\n",
    "x = np.array([[90, 98], [92, 99]])\n",
    "print('Numpy Array:')\n",
    "print(x)\n",
    "\n",
    "df = pd.DataFrame({'Maths': x[:, 0], 'Science': x[:, 1]})\n",
    "print('\\nDataframe from Numpy Array:')\n",
    "print(df)"
   ]
  },
  {
   "cell_type": "markdown",
   "metadata": {},
   "source": [
    "<div style=\"\">\n",
    "    <div style=\"float: left; width: 80%;\">\n",
    "        <a id=\"85\"></a>\n",
    "        <font><b>Task 85:</b></font>\n",
    "        <br><br>\n",
    "        Numpy to Dataframe by using from_records\n",
    "    </div>\n",
    "    <div style=\"float: right;\">\n",
    "        <a href=\"#top\" class=\"btn btn-primary btn-sm\" role=\"button\" aria-pressed=\"true\" style=\"color:white\" data-toggle=\"popover\" title=\"go to Top\">Go to Top</a>\n",
    "    </div>\n",
    "    <br style=\"clear: left;\" />\n",
    "</div>"
   ]
  },
  {
   "cell_type": "code",
   "execution_count": null,
   "metadata": {},
   "outputs": [],
   "source": [
    "# 85. Numpy to Dataframe by using from_records\n",
    "\n",
    "x = np.arange(6).reshape(2, -1) # -1 is used for lazy option\n",
    "print('Numpy Array:')\n",
    "print(x)\n",
    "\n",
    "df = pd.DataFrame.from_records(x)\n",
    "print('\\nDataframe from Numpy Array by using from_records:')\n",
    "print(df)"
   ]
  },
  {
   "cell_type": "markdown",
   "metadata": {},
   "source": [
    "<div style=\"\">\n",
    "    <div style=\"float: left; width: 80%;\">\n",
    "        <a id=\"86\"></a>\n",
    "        <font><b>Task 86:</b></font>\n",
    "        <br><br>\n",
    "        Append with hstack\n",
    "    </div>\n",
    "    <div style=\"float: right;\">\n",
    "        <a href=\"#top\" class=\"btn btn-primary btn-sm\" role=\"button\" aria-pressed=\"true\" style=\"color:white\" data-toggle=\"popover\" title=\"go to Top\">Go to Top</a>\n",
    "    </div>\n",
    "    <br style=\"clear: left;\" />\n",
    "</div>"
   ]
  },
  {
   "cell_type": "code",
   "execution_count": null,
   "metadata": {},
   "outputs": [],
   "source": [
    "# 86. Append with hstack\n",
    "\n",
    "a = np.arange(6).reshape(2, -1)\n",
    "print('Numpy Array:')\n",
    "print(a)\n",
    "\n",
    "b = np.hstack((a, np.zeros((a.shape[0], 1), dtype = a.dtype)))\n",
    "print('\\nAfter appending with hstack:')\n",
    "print(b)"
   ]
  },
  {
   "cell_type": "markdown",
   "metadata": {},
   "source": [
    "<div style=\"\">\n",
    "    <div style=\"float: left; width: 80%;\">\n",
    "        <a id=\"87\"></a>\n",
    "        <font><b>Task 87:</b></font>\n",
    "        <br><br>\n",
    "        Ravel vs. Flatten\n",
    "    </div>\n",
    "    <div style=\"float: right;\">\n",
    "        <a href=\"#top\" class=\"btn btn-primary btn-sm\" role=\"button\" aria-pressed=\"true\" style=\"color:white\" data-toggle=\"popover\" title=\"go to Top\">Go to Top</a>\n",
    "    </div>\n",
    "    <br style=\"clear: left;\" />\n",
    "</div>"
   ]
  },
  {
   "cell_type": "code",
   "execution_count": null,
   "metadata": {},
   "outputs": [],
   "source": [
    "# 87. Ravel vs. Flatten\n",
    "\n",
    "a = np.array([[1,2],[3,4]])\n",
    "print('Original numpy array:')\n",
    "print(a)\n",
    "\n",
    "ravel_a = np.ravel(a)\n",
    "flatten_a = np.ndarray.flatten(a)  \n",
    "\n",
    "print('\\nravel a:')\n",
    "print(ravel_a)\n",
    "\n",
    "print('\\nflatten a:')\n",
    "print(flatten_a)\n",
    "\n",
    "print('\\nravel a base:')\n",
    "print(ravel_a.base)\n",
    "\n",
    "print('\\nflatten a base:')\n",
    "print(flatten_a.base) # since it is a copy, you would see None as base\n",
    "\n",
    "# Note: if view, you will see the original array in .base\n",
    "# If is a copy, you will see None in .base"
   ]
  },
  {
   "cell_type": "markdown",
   "metadata": {},
   "source": [
    "<div style=\"\">\n",
    "    <div style=\"float: left; width: 80%;\">\n",
    "        <a id=\"88\"></a>\n",
    "        <font><b>Task 88:</b></font>\n",
    "        <br><br>\n",
    "        Ravel and Flatten with assignment\n",
    "    </div>\n",
    "    <div style=\"float: right;\">\n",
    "        <a href=\"#top\" class=\"btn btn-primary btn-sm\" role=\"button\" aria-pressed=\"true\" style=\"color:white\" data-toggle=\"popover\" title=\"go to Top\">Go to Top</a>\n",
    "    </div>\n",
    "    <br style=\"clear: left;\" />\n",
    "</div>"
   ]
  },
  {
   "cell_type": "code",
   "execution_count": null,
   "metadata": {},
   "outputs": [],
   "source": [
    "# 88. Ravel and Flatten with assignment\n",
    "\n",
    "a = np.array([[1,2],[3,4]])\n",
    "print('Original numpy array, a:')\n",
    "print(a)\n",
    "\n",
    "ravel_a = np.ravel(a)\n",
    "flatten_a = np.ndarray.flatten(a)  \n",
    "\n",
    "print('\\nravel a:')\n",
    "print(ravel_a)\n",
    "\n",
    "print('\\nflatten a:')\n",
    "print(flatten_a)\n",
    "\n",
    "ravel_a[0] = 100\n",
    "print('\\nAfter changing ravel, a:')\n",
    "print(a)\n",
    "\n",
    "flatten_a[1] = 200\n",
    "print('\\nAfter changing flatten, a:')\n",
    "print(a)\n",
    "\n",
    "print('\\nravel a base:')\n",
    "print(ravel_a.base)\n",
    "\n",
    "print('\\nflatten a base:')\n",
    "print(flatten_a.base) # since it is a copy, you would see None as base\n",
    "\n",
    "# Note: if view, you will see the original array in .base\n",
    "# If is a copy, you will see None in .base"
   ]
  },
  {
   "cell_type": "markdown",
   "metadata": {},
   "source": [
    "<div style=\"\">\n",
    "    <div style=\"float: left; width: 80%;\">\n",
    "        <a id=\"89\"></a>\n",
    "        <font><b>Task 89:</b></font>\n",
    "        <br><br>\n",
    "        Numpy Concatenate\n",
    "    </div>\n",
    "    <div style=\"float: right;\">\n",
    "        <a href=\"#top\" class=\"btn btn-primary btn-sm\" role=\"button\" aria-pressed=\"true\" style=\"color:white\" data-toggle=\"popover\" title=\"go to Top\">Go to Top</a>\n",
    "    </div>\n",
    "    <br style=\"clear: left;\" />\n",
    "</div>"
   ]
  },
  {
   "cell_type": "code",
   "execution_count": null,
   "metadata": {},
   "outputs": [],
   "source": [
    "# 89. Numpy Concatenate\n",
    "\n",
    "a = np.arange(4).reshape(2, -1)\n",
    "b = np.array([[5, 6]])\n",
    "\n",
    "print('a:')\n",
    "print(a)\n",
    "\n",
    "print('\\nb:')\n",
    "print(b)\n",
    "\n",
    "# appending as a row\n",
    "c = np.concatenate((a, b), axis = 0)\n",
    "print('\\nAfter appending as a row:')\n",
    "print(c)\n",
    "\n",
    "\n",
    "# appending as a colum\n",
    "d = np.concatenate((a, b.T), axis = 1)\n",
    "print('\\nAfter appending as a colum:')\n",
    "print(d)\n",
    "\n",
    "\n",
    "e = np.concatenate((a, b), axis = None)\n",
    "print('\\nAfter flatteeing and appending:')\n",
    "print(e)"
   ]
  },
  {
   "cell_type": "markdown",
   "metadata": {},
   "source": [
    "<div style=\"\">\n",
    "    <div style=\"float: left; width: 80%;\">\n",
    "        <a id=\"90\"></a>\n",
    "        <font><b>Task 90:</b></font>\n",
    "        <br><br>\n",
    "        Reverse 1D array\n",
    "    </div>\n",
    "    <div style=\"float: right;\">\n",
    "        <a href=\"#top\" class=\"btn btn-primary btn-sm\" role=\"button\" aria-pressed=\"true\" style=\"color:white\" data-toggle=\"popover\" title=\"go to Top\">Go to Top</a>\n",
    "    </div>\n",
    "    <br style=\"clear: left;\" />\n",
    "</div>"
   ]
  },
  {
   "cell_type": "code",
   "execution_count": null,
   "metadata": {},
   "outputs": [],
   "source": [
    "# 90. Reverse 1D array\n",
    "\n",
    "x = np.arange(4)\n",
    "print('Before:')\n",
    "print(x)\n",
    "\n",
    "y = x[::-1]\n",
    "print('\\nAfter reversing:')\n",
    "print(y)"
   ]
  },
  {
   "cell_type": "markdown",
   "metadata": {},
   "source": [
    "<div style=\"\">\n",
    "    <div style=\"float: left; width: 80%;\">\n",
    "        <a id=\"91\"></a>\n",
    "        <font><b>Task 91:</b></font>\n",
    "        <br><br>\n",
    "        Reverse 2D Array\n",
    "    </div>\n",
    "    <div style=\"float: right;\">\n",
    "        <a href=\"#top\" class=\"btn btn-primary btn-sm\" role=\"button\" aria-pressed=\"true\" style=\"color:white\" data-toggle=\"popover\" title=\"go to Top\">Go to Top</a>\n",
    "    </div>\n",
    "    <br style=\"clear: left;\" />\n",
    "</div>"
   ]
  },
  {
   "cell_type": "code",
   "execution_count": null,
   "metadata": {},
   "outputs": [],
   "source": [
    "# 91. Reverse 2D Array\n",
    "\n",
    "x = np.arange(8).reshape(2, -1)\n",
    "print('Before:')\n",
    "print(x)\n",
    "\n",
    "y = x[::-1]\n",
    "print('\\nAfter reversing:')\n",
    "print(y)"
   ]
  },
  {
   "cell_type": "markdown",
   "metadata": {},
   "source": [
    "<div style=\"\">\n",
    "    <div style=\"float: left; width: 80%;\">\n",
    "        <a id=\"92\"></a>\n",
    "        <font><b>Task 92:</b></font>\n",
    "        <br><br>\n",
    "        Reverse 2D array with elements\n",
    "    </div>\n",
    "    <div style=\"float: right;\">\n",
    "        <a href=\"#top\" class=\"btn btn-primary btn-sm\" role=\"button\" aria-pressed=\"true\" style=\"color:white\" data-toggle=\"popover\" title=\"go to Top\">Go to Top</a>\n",
    "    </div>\n",
    "    <br style=\"clear: left;\" />\n",
    "</div>"
   ]
  },
  {
   "cell_type": "code",
   "execution_count": null,
   "metadata": {},
   "outputs": [],
   "source": [
    "# 92. Reverse 2D array with elements\n",
    "\n",
    "x = np.arange(8).reshape(2, -1)\n",
    "print('Before:')\n",
    "print(x)\n",
    "\n",
    "y = np.flip(x)\n",
    "print('\\nAfter reversing with flip:')\n",
    "print(y)\n",
    "\n",
    "y = np.flipud(x)\n",
    "print('\\nAfter reversing with flipud:')\n",
    "print(y)\n",
    "\n",
    "y = np.fliplr(x)\n",
    "print('\\nAfter reversing with fliplr:')\n",
    "print(y)"
   ]
  },
  {
   "cell_type": "markdown",
   "metadata": {},
   "source": [
    "<div style=\"\">\n",
    "    <div style=\"float: left; width: 80%;\">\n",
    "        <a id=\"93\"></a>\n",
    "        <font><b>Task 93:</b></font>\n",
    "        <br><br>\n",
    "        Image as an array\n",
    "    </div>\n",
    "    <div style=\"float: right;\">\n",
    "        <a href=\"#top\" class=\"btn btn-primary btn-sm\" role=\"button\" aria-pressed=\"true\" style=\"color:white\" data-toggle=\"popover\" title=\"go to Top\">Go to Top</a>\n",
    "    </div>\n",
    "    <br style=\"clear: left;\" />\n",
    "</div>"
   ]
  },
  {
   "cell_type": "code",
   "execution_count": null,
   "metadata": {},
   "outputs": [],
   "source": [
    "# 93. Image as an array\n",
    "from PIL import Image\n",
    "\n",
    "image_np = np.asarray(Image.open('/kaggle/input/numpy-cheatsheet/cn_tower.jpg'))\n",
    "print(type(image_np))"
   ]
  },
  {
   "cell_type": "markdown",
   "metadata": {},
   "source": [
    "<div style=\"\">\n",
    "    <div style=\"float: left; width: 80%;\">\n",
    "        <a id=\"94\"></a>\n",
    "        <font><b>Task 94:</b></font>\n",
    "        <br><br>\n",
    "        Array with prefilled values\n",
    "    </div>\n",
    "    <div style=\"float: right;\">\n",
    "        <a href=\"#top\" class=\"btn btn-primary btn-sm\" role=\"button\" aria-pressed=\"true\" style=\"color:white\" data-toggle=\"popover\" title=\"go to Top\">Go to Top</a>\n",
    "    </div>\n",
    "    <br style=\"clear: left;\" />\n",
    "</div>"
   ]
  },
  {
   "cell_type": "code",
   "execution_count": null,
   "metadata": {},
   "outputs": [],
   "source": [
    "# 94. Array with prefilled values\n",
    "\n",
    "a = np.full((2, 4), 23)\n",
    "print('Array with prefilled values:')\n",
    "print(a)\n",
    "\n",
    "b = np.empty((2, 4), dtype = int)\n",
    "b.fill(23)\n",
    "print('\\nArray with prefilled values by using empty and fill:')\n",
    "print(b)"
   ]
  },
  {
   "cell_type": "markdown",
   "metadata": {},
   "source": [
    "<div style=\"\">\n",
    "    <div style=\"float: left; width: 80%;\">\n",
    "        <a id=\"95\"></a>\n",
    "        <font><b>Task 95:</b></font>\n",
    "        <br><br>\n",
    "        Delete specific indices\n",
    "    </div>\n",
    "    <div style=\"float: right;\">\n",
    "        <a href=\"#top\" class=\"btn btn-primary btn-sm\" role=\"button\" aria-pressed=\"true\" style=\"color:white\" data-toggle=\"popover\" title=\"go to Top\">Go to Top</a>\n",
    "    </div>\n",
    "    <br style=\"clear: left;\" />\n",
    "</div>"
   ]
  },
  {
   "cell_type": "code",
   "execution_count": null,
   "metadata": {},
   "outputs": [],
   "source": [
    "# 95. Delete specific indices\n",
    "\n",
    "a = np.array([1, 3, 5, 4, 7])\n",
    "print('Before:')\n",
    "print(a)\n",
    "\n",
    "indices = [2, 3]\n",
    "b = np.delete(a, indices)\n",
    "\n",
    "print('\\nAfter Deleting specific indices:')\n",
    "print(b)"
   ]
  },
  {
   "cell_type": "markdown",
   "metadata": {},
   "source": [
    "<div style=\"\">\n",
    "    <div style=\"float: left; width: 80%;\">\n",
    "        <a id=\"96\"></a>\n",
    "        <font><b>Task 96:</b></font>\n",
    "        <br><br>\n",
    "        Deleting specific elements\n",
    "    </div>\n",
    "    <div style=\"float: right;\">\n",
    "        <a href=\"#top\" class=\"btn btn-primary btn-sm\" role=\"button\" aria-pressed=\"true\" style=\"color:white\" data-toggle=\"popover\" title=\"go to Top\">Go to Top</a>\n",
    "    </div>\n",
    "    <br style=\"clear: left;\" />\n",
    "</div>"
   ]
  },
  {
   "cell_type": "code",
   "execution_count": null,
   "metadata": {},
   "outputs": [],
   "source": [
    "# 96. Deleting specific elements\n",
    "\n",
    "a = np.array([1, 4, 5, 4])\n",
    "print('Before:')\n",
    "print(a)\n",
    "\n",
    "b = np.array([3, 4])\n",
    "c = np.setdiff1d(a, b)\n",
    "\n",
    "print('\\nAfter Deleting specific elements:')\n",
    "print(c)"
   ]
  },
  {
   "cell_type": "markdown",
   "metadata": {},
   "source": [
    "<div style=\"\">\n",
    "    <div style=\"float: left; width: 80%;\">\n",
    "        <a id=\"97\"></a>\n",
    "        <font><b>Task 97:</b></font>\n",
    "        <br><br>\n",
    "        Boolean Numpy Array\n",
    "    </div>\n",
    "    <div style=\"float: right;\">\n",
    "        <a href=\"#top\" class=\"btn btn-primary btn-sm\" role=\"button\" aria-pressed=\"true\" style=\"color:white\" data-toggle=\"popover\" title=\"go to Top\">Go to Top</a>\n",
    "    </div>\n",
    "    <br style=\"clear: left;\" />\n",
    "</div>"
   ]
  },
  {
   "cell_type": "code",
   "execution_count": null,
   "metadata": {},
   "outputs": [],
   "source": [
    "# 97. Boolean Numpy Array\n",
    "\n",
    "a = np.ones((2, 2), dtype = bool)\n",
    "print('True Boolean Array:')\n",
    "print(a)\n",
    "\n",
    "b = np.zeros((2, 3), dtype = bool)\n",
    "print('\\nFalse Boolean Array:')\n",
    "print(b)\n",
    "\n",
    "c = np.full((2, 4), True)\n",
    "print('\\nTrue Boolean Array by using .full:')\n",
    "print(c)"
   ]
  },
  {
   "cell_type": "markdown",
   "metadata": {},
   "source": [
    "<div style=\"\">\n",
    "    <div style=\"float: left; width: 80%;\">\n",
    "        <a id=\"98\"></a>\n",
    "        <font><b>Task 98:</b></font>\n",
    "        <br><br>\n",
    "        Array of NaN\n",
    "    </div>\n",
    "    <div style=\"float: right;\">\n",
    "        <a href=\"#top\" class=\"btn btn-primary btn-sm\" role=\"button\" aria-pressed=\"true\" style=\"color:white\" data-toggle=\"popover\" title=\"go to Top\">Go to Top</a>\n",
    "    </div>\n",
    "    <br style=\"clear: left;\" />\n",
    "</div>"
   ]
  },
  {
   "cell_type": "code",
   "execution_count": null,
   "metadata": {},
   "outputs": [],
   "source": [
    "# 98. Array of NaN\n",
    "\n",
    "a = np.empty((3, 2,))\n",
    "a[:] = np.nan\n",
    "print('nan using empty:')\n",
    "print(a)\n",
    "\n",
    "b = np.full([3, 2], np.nan)\n",
    "print('\\nnan using full:')\n",
    "print(b)"
   ]
  },
  {
   "cell_type": "markdown",
   "metadata": {},
   "source": [
    "<div style=\"\">\n",
    "    <div style=\"float: left; width: 80%;\">\n",
    "        <a id=\"99\"></a>\n",
    "        <font><b>Task 99**:</b></font>\n",
    "        <br><br>\n",
    "        Replace values with specific condition\n",
    "    </div>\n",
    "    <div style=\"float: right;\">\n",
    "        <a href=\"#top\" class=\"btn btn-primary btn-sm\" role=\"button\" aria-pressed=\"true\" style=\"color:white\" data-toggle=\"popover\" title=\"go to Top\">Go to Top</a>\n",
    "    </div>\n",
    "    <br style=\"clear: left;\" />\n",
    "</div>"
   ]
  },
  {
   "cell_type": "code",
   "execution_count": null,
   "metadata": {},
   "outputs": [],
   "source": [
    "# 99. Replace values with specific condition\n",
    "\n",
    "import numpy as np\n",
    "a = np.random.rand(2, 4)\n",
    "print('Before:')\n",
    "print(a)\n",
    "\n",
    "a[a > 0.5] = 0.5\n",
    "print('\\nAfter updating a[a > 0.5] = 0.5:')\n",
    "print(a)"
   ]
  },
  {
   "cell_type": "markdown",
   "metadata": {},
   "source": [
    "<div style=\"\">\n",
    "    <div style=\"float: left; width: 80%;\">\n",
    "        <a id=\"100\"></a>\n",
    "        <font><b>Task 100:</b></font>\n",
    "        <br><br>\n",
    "        Selecting specific columns\n",
    "    </div>\n",
    "    <div style=\"float: right;\">\n",
    "        <a href=\"#top\" class=\"btn btn-primary btn-sm\" role=\"button\" aria-pressed=\"true\" style=\"color:white\" data-toggle=\"popover\" title=\"go to Top\">Go to Top</a>\n",
    "    </div>\n",
    "    <br style=\"clear: left;\" />\n",
    "</div>"
   ]
  },
  {
   "cell_type": "code",
   "execution_count": null,
   "metadata": {},
   "outputs": [],
   "source": [
    "# 100. Selecting specific columns\n",
    "\n",
    "x = np.arange(12).reshape(3, 4)\n",
    "print('Before:')\n",
    "print(x)\n",
    "\n",
    "y = x[:, [1, 3]]\n",
    "print('\\nAfter selecting specific columns:')\n",
    "print(y)"
   ]
  },
  {
   "cell_type": "markdown",
   "metadata": {},
   "source": [
    "<div style=\"\">\n",
    "    <div style=\"float: left; width: 80%;\">\n",
    "        <a id=\"101\"></a>\n",
    "        <font><b>Task 101:</b></font>\n",
    "        <br><br>\n",
    "        Vectorize\n",
    "    </div>\n",
    "    <div style=\"float: right;\">\n",
    "        <a href=\"#top\" class=\"btn btn-primary btn-sm\" role=\"button\" aria-pressed=\"true\" style=\"color:white\" data-toggle=\"popover\" title=\"go to Top\">Go to Top</a>\n",
    "    </div>\n",
    "    <br style=\"clear: left;\" />\n",
    "</div>"
   ]
  },
  {
   "cell_type": "code",
   "execution_count": null,
   "metadata": {},
   "outputs": [],
   "source": [
    "# 101. Vectorize\n",
    "\n",
    "aa = np.array([[1,2,3,4], [2,3,4,5], [5,6,7,8], [9,10,11,12]])\n",
    "bb = np.array([[100,200,300,400], [100,200,300,400], [100,200,300,400], [100,200,300,400]])\n",
    "\n",
    "def vec2(a, b):\n",
    "    return a + b\n",
    "\n",
    "func2 = np.vectorize(vec2)\n",
    "print(func2(bb[:,1], aa[:,1]))"
   ]
  },
  {
   "cell_type": "markdown",
   "metadata": {},
   "source": [
    "<div style=\"\">\n",
    "    <div style=\"float: left; width: 80%;\">\n",
    "        <a id=\"102\"></a>\n",
    "        <font><b>Task 102:</b></font>\n",
    "        <br><br>\n",
    "        If condition on Numpy array on the fly\n",
    "    </div>\n",
    "    <div style=\"float: right;\">\n",
    "        <a href=\"#top\" class=\"btn btn-primary btn-sm\" role=\"button\" aria-pressed=\"true\" style=\"color:white\" data-toggle=\"popover\" title=\"go to Top\">Go to Top</a>\n",
    "    </div>\n",
    "    <br style=\"clear: left;\" />\n",
    "</div>"
   ]
  },
  {
   "cell_type": "code",
   "execution_count": null,
   "metadata": {},
   "outputs": [],
   "source": [
    "# 102. If condition on Numpy array on the fly\n",
    "\n",
    "a = np.arange(6).view([('b', np.int),('c', np.int)])\n",
    "\n",
    "print(a)\n",
    "\n",
    "print(a['b'] < 4)\n",
    "\n",
    "print((a['b'] < 4).sum())"
   ]
  },
  {
   "cell_type": "markdown",
   "metadata": {},
   "source": [
    "<div style=\"\">\n",
    "    <div style=\"float: left; width: 80%;\">\n",
    "        <a id=\"103\"></a>\n",
    "        <font><b>Task 103:</b></font>\n",
    "        <br><br>\n",
    "        If condition and sum on Numpy colum\n",
    "    </div>\n",
    "    <div style=\"float: right;\">\n",
    "        <a href=\"#top\" class=\"btn btn-primary btn-sm\" role=\"button\" aria-pressed=\"true\" style=\"color:white\" data-toggle=\"popover\" title=\"go to Top\">Go to Top</a>\n",
    "    </div>\n",
    "    <br style=\"clear: left;\" />\n",
    "</div>"
   ]
  },
  {
   "cell_type": "code",
   "execution_count": null,
   "metadata": {},
   "outputs": [],
   "source": [
    "# 103. If condition and sum on Numpy colum\n",
    "\n",
    "a = np.random.randint(0, 10, 20).reshape(4, 5)\n",
    "\n",
    "print('Original Array:')\n",
    "print(a)\n",
    "\n",
    "# How many elements in column 3 are greater than 2?\n",
    "b = a[:, 1] > 2\n",
    "\n",
    "print('\\nPrinting elements in colmns which are greater than 2: ')\n",
    "print(b)\n",
    "\n",
    "print('\\nPrinting elements\\' sum in colmns which are greater than 2: ')\n",
    "print(b.sum())"
   ]
  },
  {
   "cell_type": "markdown",
   "metadata": {},
   "source": [
    "<div style=\"\">\n",
    "    <div style=\"float: left; width: 80%;\">\n",
    "        <a id=\"104\"></a>\n",
    "        <font><b>Task 104:</b></font>\n",
    "        <br><br>\n",
    "        Using Vectorize function on Numpy\n",
    "    </div>\n",
    "    <div style=\"float: right;\">\n",
    "        <a href=\"#top\" class=\"btn btn-primary btn-sm\" role=\"button\" aria-pressed=\"true\" style=\"color:white\" data-toggle=\"popover\" title=\"go to Top\">Go to Top</a>\n",
    "    </div>\n",
    "    <br style=\"clear: left;\" />\n",
    "</div>"
   ]
  },
  {
   "cell_type": "code",
   "execution_count": null,
   "metadata": {},
   "outputs": [],
   "source": [
    "# 104. Using Vectorize function on Numpy\n",
    "\n",
    "def get_max(a, b):\n",
    "    \n",
    "    if (a > b): \n",
    "        return a\n",
    "    \n",
    "    return b\n",
    "    \n",
    "b_vectfunc = np.vectorize(get_max)\n",
    "x = [[1, 2, 3], [4, 7, 2]]\n",
    "y = [7, 4, 5]\n",
    "\n",
    "result = b_vectfunc(x, y)\n",
    "\n",
    "print(result)\n",
    "\n",
    "# Note: It will compare the array element wise and get the max value"
   ]
  },
  {
   "cell_type": "markdown",
   "metadata": {},
   "source": [
    "<div style=\"\">\n",
    "    <div style=\"float: left; width: 80%;\">\n",
    "        <a id=\"105\"></a>\n",
    "        <font><b>Task 105:</b></font>\n",
    "        <br><br>\n",
    "        Apply Along Axis on Numpy Matrix\n",
    "    </div>\n",
    "    <div style=\"float: right;\">\n",
    "        <a href=\"#top\" class=\"btn btn-primary btn-sm\" role=\"button\" aria-pressed=\"true\" style=\"color:white\" data-toggle=\"popover\" title=\"go to Top\">Go to Top</a>\n",
    "    </div>\n",
    "    <br style=\"clear: left;\" />\n",
    "</div>"
   ]
  },
  {
   "cell_type": "code",
   "execution_count": null,
   "metadata": {},
   "outputs": [],
   "source": [
    "# 105. Apply Along Axis on Numpy Matrix\n",
    "\n",
    "def get_avg(a):\n",
    "    return (a[0] + a[-1]) / 2\n",
    "\n",
    "a = np.random.randint(1, 10, 9).reshape(3, 3)\n",
    "\n",
    "print('Original array:')\n",
    "print(a)\n",
    "\n",
    "b = np.apply_along_axis(get_avg, 0, a)\n",
    "\n",
    "print('\\nAfter averaging the first and last element:')\n",
    "print(b)"
   ]
  },
  {
   "cell_type": "markdown",
   "metadata": {},
   "source": [
    "<div style=\"\">\n",
    "    <div style=\"float: left; width: 80%;\">\n",
    "        <a id=\"106\"></a>\n",
    "        <font><b>Task 106:</b></font>\n",
    "        <br><br>\n",
    "        Sort the arry by using \n",
    "    </div>\n",
    "    <div style=\"float: right;\">\n",
    "        <a href=\"#top\" class=\"btn btn-primary btn-sm\" role=\"button\" aria-pressed=\"true\" style=\"color:white\" data-toggle=\"popover\" title=\"go to Top\">Go to Top</a>\n",
    "    </div>\n",
    "    <br style=\"clear: left;\" />\n",
    "</div>"
   ]
  },
  {
   "cell_type": "code",
   "execution_count": null,
   "metadata": {},
   "outputs": [],
   "source": [
    "# 106. Sort the arry by using \n",
    "\n",
    "a = np.random.randint(1, 10, 9).reshape(3, 3)\n",
    "\n",
    "print('Original Array :')\n",
    "print(a)\n",
    "\n",
    "b = np.apply_along_axis(sorted, 0, a)\n",
    "\n",
    "print('\\nAfter sorting :')\n",
    "print(b)"
   ]
  },
  {
   "cell_type": "markdown",
   "metadata": {},
   "source": [
    "<div style=\"\">\n",
    "    <div style=\"float: left; width: 80%;\">\n",
    "        <a id=\"107\"></a>\n",
    "        <font><b>Task 107:</b></font>\n",
    "        <br><br>\n",
    "        Numpy Roll\n",
    "    </div>\n",
    "    <div style=\"float: right;\">\n",
    "        <a href=\"#top\" class=\"btn btn-primary btn-sm\" role=\"button\" aria-pressed=\"true\" style=\"color:white\" data-toggle=\"popover\" title=\"go to Top\">Go to Top</a>\n",
    "    </div>\n",
    "    <br style=\"clear: left;\" />\n",
    "</div>"
   ]
  },
  {
   "cell_type": "code",
   "execution_count": null,
   "metadata": {},
   "outputs": [],
   "source": [
    "# 107. Numpy Roll\n",
    "\n",
    "import numpy as np\n",
    "\n",
    "x = np.arange(1, 7).reshape(2, 3)\n",
    "\n",
    "print(x)\n",
    "\n",
    "y = np.roll(x, 1, axis = 1)\n",
    "\n",
    "print('\\nAfter:')\n",
    "print(y)"
   ]
  },
  {
   "cell_type": "markdown",
   "metadata": {},
   "source": [
    "<div style=\"\">\n",
    "    <div style=\"float: left; width: 80%;\">\n",
    "        <a id=\"108\"></a>\n",
    "        <font><b>Task 108:</b></font>\n",
    "        <br><br>\n",
    "        Roll elements\n",
    "    </div>\n",
    "    <div style=\"float: right;\">\n",
    "        <a href=\"#top\" class=\"btn btn-primary btn-sm\" role=\"button\" aria-pressed=\"true\" style=\"color:white\" data-toggle=\"popover\" title=\"go to Top\">Go to Top</a>\n",
    "    </div>\n",
    "    <br style=\"clear: left;\" />\n",
    "</div>"
   ]
  },
  {
   "cell_type": "code",
   "execution_count": null,
   "metadata": {},
   "outputs": [],
   "source": [
    "# 108. Roll elements\n",
    "\n",
    "x = np.arange(10)\n",
    "y = np.roll(x, 2)\n",
    "\n",
    "print(x)\n",
    "\n",
    "print(y)"
   ]
  },
  {
   "cell_type": "markdown",
   "metadata": {},
   "source": [
    "<div style=\"\">\n",
    "    <div style=\"float: left; width: 80%;\">\n",
    "        <a id=\"109\"></a>\n",
    "        <font><b>Task 109:</b></font>\n",
    "        <br><br>\n",
    "        Array Append on Axis 0 and Axis 1\n",
    "    </div>\n",
    "    <div style=\"float: right;\">\n",
    "        <a href=\"#top\" class=\"btn btn-primary btn-sm\" role=\"button\" aria-pressed=\"true\" style=\"color:white\" data-toggle=\"popover\" title=\"go to Top\">Go to Top</a>\n",
    "    </div>\n",
    "    <br style=\"clear: left;\" />\n",
    "</div>"
   ]
  },
  {
   "cell_type": "code",
   "execution_count": null,
   "metadata": {},
   "outputs": [],
   "source": [
    "# 109. Array Append on Axis 0 and Axis 1\n",
    "\n",
    "a = np.array([1, 2])\n",
    "b = np.array([3, 4])\n",
    "\n",
    "print('Array a:')\n",
    "print(a)\n",
    "\n",
    "print('\\nArray b:')\n",
    "print(b)\n",
    "\n",
    "c = np.append([a], [b], axis = 0)\n",
    "print('\\nArray c : append a and b on axis 0:')\n",
    "print(c)\n",
    "\n",
    "d = np.append([a], [b], axis = 1)\n",
    "print('\\nArray d : append a and b on axis 1:')\n",
    "print(d)"
   ]
  },
  {
   "cell_type": "markdown",
   "metadata": {},
   "source": [
    "<div style=\"\">\n",
    "    <div style=\"float: left; width: 80%;\">\n",
    "        <a id=\"110\"></a>\n",
    "        <font><b>Task 110:</b></font>\n",
    "        <br><br>\n",
    "        Rearrange array with specified index\n",
    "    </div>\n",
    "    <div style=\"float: right;\">\n",
    "        <a href=\"#top\" class=\"btn btn-primary btn-sm\" role=\"button\" aria-pressed=\"true\" style=\"color:white\" data-toggle=\"popover\" title=\"go to Top\">Go to Top</a>\n",
    "    </div>\n",
    "    <br style=\"clear: left;\" />\n",
    "</div>"
   ]
  },
  {
   "cell_type": "code",
   "execution_count": null,
   "metadata": {},
   "outputs": [],
   "source": [
    "# 110. Rearrange array with specified index\n",
    "\n",
    "a = np.array([11, 22, 33, 44, 55])\n",
    "print('Before:')\n",
    "print(a)\n",
    "\n",
    "idx = [4, 2, 0, 1, 3]\n",
    "\n",
    "b = a[idx]\n",
    "\n",
    "print('\\nAfter:')\n",
    "print(b)"
   ]
  },
  {
   "cell_type": "markdown",
   "metadata": {},
   "source": [
    "<div style=\"\">\n",
    "    <div style=\"float: left; width: 80%;\">\n",
    "        <a id=\"111\"></a>\n",
    "        <font><b>Task 111:</b></font>\n",
    "        <br><br>\n",
    "        Serialize array with pickle\n",
    "    </div>\n",
    "    <div style=\"float: right;\">\n",
    "        <a href=\"#top\" class=\"btn btn-primary btn-sm\" role=\"button\" aria-pressed=\"true\" style=\"color:white\" data-toggle=\"popover\" title=\"go to Top\">Go to Top</a>\n",
    "    </div>\n",
    "    <br style=\"clear: left;\" />\n",
    "</div>"
   ]
  },
  {
   "cell_type": "code",
   "execution_count": null,
   "metadata": {},
   "outputs": [],
   "source": [
    "# 111. Serialize array with pickle\n",
    "\n",
    "a = np.array([10, 20])\n",
    "print('Before:')\n",
    "print(a)\n",
    "\n",
    "import pickle\n",
    "\n",
    "b = pickle.dumps(a, protocol = 4)\n",
    "\n",
    "print('\\nSerialized Numpy Array:')\n",
    "print(b)\n",
    "\n",
    "c = pickle.loads(b)\n",
    "\n",
    "print('\\nDe-serialized Numpy Array:')\n",
    "print(c)\n",
    "\n",
    "# Check protocols here: https://docs.python.org/3/library/pickle.html"
   ]
  },
  {
   "cell_type": "markdown",
   "metadata": {},
   "source": [
    "<div style=\"\">\n",
    "    <div style=\"float: left; width: 80%;\">\n",
    "        <a id=\"112\"></a>\n",
    "        <font><b>Task 112:</b></font>\n",
    "        <br><br>\n",
    "        Transpose\n",
    "    </div>\n",
    "    <div style=\"float: right;\">\n",
    "        <a href=\"#top\" class=\"btn btn-primary btn-sm\" role=\"button\" aria-pressed=\"true\" style=\"color:white\" data-toggle=\"popover\" title=\"go to Top\">Go to Top</a>\n",
    "    </div>\n",
    "    <br style=\"clear: left;\" />\n",
    "</div>"
   ]
  },
  {
   "cell_type": "code",
   "execution_count": null,
   "metadata": {},
   "outputs": [],
   "source": [
    "# 112. Transpose\n",
    "\n",
    "a = np.arange(6).reshape(2, -1) \n",
    "\n",
    "print('Before:')\n",
    "print(a)\n",
    "\n",
    "b = np.transpose(a)\n",
    "print('\\nAfter:')\n",
    "print(b)"
   ]
  },
  {
   "cell_type": "markdown",
   "metadata": {},
   "source": [
    "<div style=\"\">\n",
    "    <div style=\"float: left; width: 80%;\">\n",
    "        <a id=\"113\"></a>\n",
    "        <font><b>Task 113:</b></font>\n",
    "        <br><br>\n",
    "        Continguous Array\n",
    "    </div>\n",
    "    <div style=\"float: right;\">\n",
    "        <a href=\"#top\" class=\"btn btn-primary btn-sm\" role=\"button\" aria-pressed=\"true\" style=\"color:white\" data-toggle=\"popover\" title=\"go to Top\">Go to Top</a>\n",
    "    </div>\n",
    "    <br style=\"clear: left;\" />\n",
    "</div>"
   ]
  },
  {
   "cell_type": "code",
   "execution_count": null,
   "metadata": {},
   "outputs": [],
   "source": [
    "# 113. Continguous Array\n",
    "\n",
    "a = np.ascontiguousarray(np.random.randint(0, 10, 5))\n",
    "print(a)\n",
    "print(a.flags)\n",
    "\n",
    "b = np.array(np.random.randint(0, 10, 5))\n",
    "print(b)\n",
    "print(b.flags)\n",
    "\n",
    "# Note: Not sure where we can use this option. I will do some research and update things here"
   ]
  },
  {
   "cell_type": "markdown",
   "metadata": {},
   "source": [
    "<div style=\"\">\n",
    "    <div style=\"float: left; width: 80%;\">\n",
    "        <a id=\"114\"></a>\n",
    "        <font><b>Task 114:</b></font>\n",
    "        <br><br>\n",
    "        Numpy Reshape with Order\n",
    "    </div>\n",
    "    <div style=\"float: right;\">\n",
    "        <a href=\"#top\" class=\"btn btn-primary btn-sm\" role=\"button\" aria-pressed=\"true\" style=\"color:white\" data-toggle=\"popover\" title=\"go to Top\">Go to Top</a>\n",
    "    </div>\n",
    "    <br style=\"clear: left;\" />\n",
    "</div>"
   ]
  },
  {
   "cell_type": "code",
   "execution_count": null,
   "metadata": {},
   "outputs": [],
   "source": [
    "# 114. Numpy Reshape with Order\n",
    "\n",
    "import numpy as np\n",
    "\n",
    "X = np.arange(12).reshape(6, 2)\n",
    "print('Original:')\n",
    "print(X)\n",
    "\n",
    "Y = X.reshape(3, 2, 2, order = 'F')\n",
    "print('\\nReshape with Order F:')\n",
    "print(Y)\n",
    "\n",
    "# Options: \n",
    "# 'C' - # C-like index ordering\n",
    "# 'F' - # Fortran-like index ordering\n",
    "# 'A' - # Mixed Fortran or C (check docucmnetation for more)\n",
    "# 'K' - ?"
   ]
  },
  {
   "cell_type": "markdown",
   "metadata": {},
   "source": [
    "<div style=\"\">\n",
    "    <div style=\"float: left; width: 80%;\">\n",
    "        <a id=\"115\"></a>\n",
    "        <font><b>Task 115:</b></font>\n",
    "        <br><br>\n",
    "        Element-wise math\n",
    "    </div>\n",
    "    <div style=\"float: right;\">\n",
    "        <a href=\"#top\" class=\"btn btn-primary btn-sm\" role=\"button\" aria-pressed=\"true\" style=\"color:white\" data-toggle=\"popover\" title=\"go to Top\">Go to Top</a>\n",
    "    </div>\n",
    "    <br style=\"clear: left;\" />\n",
    "</div>"
   ]
  },
  {
   "cell_type": "code",
   "execution_count": null,
   "metadata": {},
   "outputs": [],
   "source": [
    "# 115. Element-wise math\n",
    "\n",
    "a = np.arange(6).reshape(3, 2)\n",
    "print('Before:')\n",
    "print(a)\n",
    "\n",
    "# b = x^2 + y^2\n",
    "b = (np.array(a) ** 2).sum(-1)\n",
    "print('\\nAfter:')\n",
    "print(b)"
   ]
  },
  {
   "cell_type": "markdown",
   "metadata": {},
   "source": [
    "<div style=\"\">\n",
    "    <div style=\"float: left; width: 80%;\">\n",
    "        <a id=\"116\"></a>\n",
    "        <font><b>Task 116:</b></font>\n",
    "        <br><br>\n",
    "        Where with multiple condition\n",
    "    </div>\n",
    "    <div style=\"float: right;\">\n",
    "        <a href=\"#top\" class=\"btn btn-primary btn-sm\" role=\"button\" aria-pressed=\"true\" style=\"color:white\" data-toggle=\"popover\" title=\"go to Top\">Go to Top</a>\n",
    "    </div>\n",
    "    <br style=\"clear: left;\" />\n",
    "</div>"
   ]
  },
  {
   "cell_type": "code",
   "execution_count": null,
   "metadata": {},
   "outputs": [],
   "source": [
    "# 116. Where with multiple condition\n",
    "\n",
    "dt = 1.0\n",
    "a = np.arange(0.0, 5.0, dt)\n",
    "print('Original:')\n",
    "print(a)\n",
    "\n",
    "# if a is less than 3 and greater than 0, multiply by 2 or else multiply by 4\n",
    "b = np.where((a >= 0) & (a < 3), 2 * dt, 4 * dt)\n",
    "print('\\nAfter:')\n",
    "print(b)"
   ]
  },
  {
   "cell_type": "markdown",
   "metadata": {},
   "source": [
    "<div style=\"\">\n",
    "    <div style=\"float: left; width: 80%;\">\n",
    "        <a id=\"117\"></a>\n",
    "        <font><b>Task 117:</b></font>\n",
    "        <br><br>\n",
    "        Subtract Outer\n",
    "    </div>\n",
    "    <div style=\"float: right;\">\n",
    "        <a href=\"#top\" class=\"btn btn-primary btn-sm\" role=\"button\" aria-pressed=\"true\" style=\"color:white\" data-toggle=\"popover\" title=\"go to Top\">Go to Top</a>\n",
    "    </div>\n",
    "    <br style=\"clear: left;\" />\n",
    "</div>"
   ]
  },
  {
   "cell_type": "code",
   "execution_count": null,
   "metadata": {},
   "outputs": [],
   "source": [
    "# 117. Subtract Outer\n",
    "\n",
    "a, b = [2,7,8], [1,9]\n",
    "\n",
    "c = np.abs(np.subtract.outer(a, b))\n",
    "print('Original:')\n",
    "print(c)\n",
    "\n",
    "d = c.ravel()\n",
    "print('\\nAfter ravel:')\n",
    "print(d)"
   ]
  },
  {
   "cell_type": "markdown",
   "metadata": {},
   "source": [
    "<div style=\"\">\n",
    "    <div style=\"float: left; width: 80%;\">\n",
    "        <a id=\"118\"></a>\n",
    "        <font><b>Task 118:</b></font>\n",
    "        <br><br>\n",
    "        Multiply Outer\n",
    "    </div>\n",
    "    <div style=\"float: right;\">\n",
    "        <a href=\"#top\" class=\"btn btn-primary btn-sm\" role=\"button\" aria-pressed=\"true\" style=\"color:white\" data-toggle=\"popover\" title=\"go to Top\">Go to Top</a>\n",
    "    </div>\n",
    "    <br style=\"clear: left;\" />\n",
    "</div>"
   ]
  },
  {
   "cell_type": "code",
   "execution_count": null,
   "metadata": {},
   "outputs": [],
   "source": [
    "# 118. Multiply Outer\n",
    "\n",
    "a = np.array([1, 2, 3])\n",
    "b = np.array([4, 5, 6])\n",
    "\n",
    "c = np.multiply.outer(a, b)\n",
    "\n",
    "print(c)\n",
    "\n",
    "d = c.ravel()\n",
    "print(d)"
   ]
  },
  {
   "cell_type": "markdown",
   "metadata": {},
   "source": [
    "<div style=\"\">\n",
    "    <div style=\"float: left; width: 80%;\">\n",
    "        <a id=\"119\"></a>\n",
    "        <font><b>Task 119:</b></font>\n",
    "        <br><br>\n",
    "        Immutable Array\n",
    "    </div>\n",
    "    <div style=\"float: right;\">\n",
    "        <a href=\"#top\" class=\"btn btn-primary btn-sm\" role=\"button\" aria-pressed=\"true\" style=\"color:white\" data-toggle=\"popover\" title=\"go to Top\">Go to Top</a>\n",
    "    </div>\n",
    "    <br style=\"clear: left;\" />\n",
    "</div>"
   ]
  },
  {
   "cell_type": "code",
   "execution_count": null,
   "metadata": {},
   "outputs": [],
   "source": [
    "# 119. Immutable Array\n",
    "\n",
    "a = np.arange(6)\n",
    "a.flags.writeable = False\n",
    "\n",
    "print('Before:')\n",
    "print(a)\n",
    "\n",
    "a[0] = 1 # this will throw ValueError: assignment destination is read-only"
   ]
  },
  {
   "cell_type": "markdown",
   "metadata": {},
   "source": [
    "<div style=\"\">\n",
    "    <div style=\"float: left; width: 80%;\">\n",
    "        <a id=\"120\"></a>\n",
    "        <font><b>Task 120:</b></font>\n",
    "        <br><br>\n",
    "        Float anomalies in Numpy Arange\n",
    "    </div>\n",
    "    <div style=\"float: right;\">\n",
    "        <a href=\"#top\" class=\"btn btn-primary btn-sm\" role=\"button\" aria-pressed=\"true\" style=\"color:white\" data-toggle=\"popover\" title=\"go to Top\">Go to Top</a>\n",
    "    </div>\n",
    "    <br style=\"clear: left;\" />\n",
    "</div>"
   ]
  },
  {
   "cell_type": "code",
   "execution_count": null,
   "metadata": {},
   "outputs": [],
   "source": [
    "# 120. Float anomalies in Numpy Arange\n",
    "\n",
    "for i in np.arange(0.0, 2.1, 0.1):\n",
    "    print(i)\n",
    "    \n",
    "# source: \n",
    "# https://docs.python.org/3/tutorial/floatingpoint.html\n",
    "# https://stackoverflow.com/questions/63824157/while-using-np-arange-it-was-incrementing-with-wrong-step-size"
   ]
  },
  {
   "cell_type": "markdown",
   "metadata": {},
   "source": [
    "<div style=\"\">\n",
    "    <div style=\"float: left; width: 80%;\">\n",
    "        <a id=\"121\"></a>\n",
    "        <font><b>Task 121:</b></font>\n",
    "        <br><br>\n",
    "        Complex number and absolute value\n",
    "    </div>\n",
    "    <div style=\"float: right;\">\n",
    "        <a href=\"#top\" class=\"btn btn-primary btn-sm\" role=\"button\" aria-pressed=\"true\" style=\"color:white\" data-toggle=\"popover\" title=\"go to Top\">Go to Top</a>\n",
    "    </div>\n",
    "    <br style=\"clear: left;\" />\n",
    "</div>"
   ]
  },
  {
   "cell_type": "code",
   "execution_count": null,
   "metadata": {},
   "outputs": [],
   "source": [
    "# 121. Complex number and absolute value\n",
    "\n",
    "x = np.array(1.1 - 0.2j)\n",
    "print('Original:')\n",
    "print(x)\n",
    "\n",
    "print('\\nDatatype:')\n",
    "print(x.dtype)\n",
    "\n",
    "y = np.abs(x)\n",
    "print('\\nAbsolute Value:')\n",
    "print(y)"
   ]
  },
  {
   "cell_type": "markdown",
   "metadata": {},
   "source": [
    "<div style=\"\">\n",
    "    <div style=\"float: left; width: 80%;\">\n",
    "        <a id=\"122\"></a>\n",
    "        <font><b>Task 122:</b></font>\n",
    "        <br><br>\n",
    "        Set Error in Numpy\n",
    "    </div>\n",
    "    <div style=\"float: right;\">\n",
    "        <a href=\"#top\" class=\"btn btn-primary btn-sm\" role=\"button\" aria-pressed=\"true\" style=\"color:white\" data-toggle=\"popover\" title=\"go to Top\">Go to Top</a>\n",
    "    </div>\n",
    "    <br style=\"clear: left;\" />\n",
    "</div>"
   ]
  },
  {
   "cell_type": "code",
   "execution_count": null,
   "metadata": {},
   "outputs": [],
   "source": [
    "# 122. Set Error in Numpy\n",
    "\n",
    "np.seterr(all = \"ignore\")\n",
    "a = np.mean([])  # this will be okay as we set the `ignore` option\n",
    "print('Mean of empty array:')\n",
    "print(a)\n",
    "\n",
    "print('\\nAfter setting error:')\n",
    "np.seterr(all = \"raise\")\n",
    "try:\n",
    "    a = np.mean([])\n",
    "except FloatingPointError as err:\n",
    "    print('FloatingPointError: ', err)\n",
    "    \n",
    "# other options: 'ignore’, ‘warn’, ‘raise’, ‘call’, ‘print’, ‘log’"
   ]
  },
  {
   "cell_type": "markdown",
   "metadata": {},
   "source": [
    "<div style=\"\">\n",
    "    <div style=\"float: left; width: 80%;\">\n",
    "        <a id=\"123\"></a>\n",
    "        <font><b>Task 123:</b></font>\n",
    "        <br><br>\n",
    "        Convert List of List String to Numpy Array\n",
    "    </div>\n",
    "    <div style=\"float: right;\">\n",
    "        <a href=\"#top\" class=\"btn btn-primary btn-sm\" role=\"button\" aria-pressed=\"true\" style=\"color:white\" data-toggle=\"popover\" title=\"go to Top\">Go to Top</a>\n",
    "    </div>\n",
    "    <br style=\"clear: left;\" />\n",
    "</div>"
   ]
  },
  {
   "cell_type": "code",
   "execution_count": null,
   "metadata": {},
   "outputs": [],
   "source": [
    "# 123. Convert List of List String to Numpy Array\n",
    "\n",
    "import re\n",
    "\n",
    "a_list = '''\n",
    "[[25  3  2]\n",
    " [ 1 21  0]\n",
    " [ 1  0  0]]\n",
    "'''\n",
    "\n",
    "print('Original String:')\n",
    "print(a_list)\n",
    "\n",
    "rows = []\n",
    "\n",
    "for line in filter(len, map(str.strip, a_list.split(\"\\n\"))):\n",
    "    rows.append([ int(v) for v in re.findall(r\"\\b[0-9]+\\b\", line) ])\n",
    "\n",
    "np_rows = np.array(rows)\n",
    "print('\\nAfter converting string to Numpy Array:')\n",
    "print(np_rows)\n",
    "\n",
    "# do this opeartion just to verify\n",
    "np_rows += 2\n",
    "\n",
    "print('\\nAfter converting string to Numpy Array and add 2 in all elements:')\n",
    "print(np_rows)\n",
    "\n",
    "print('\\nDatatype:')\n",
    "print(type(np_rows))"
   ]
  },
  {
   "cell_type": "markdown",
   "metadata": {},
   "source": [
    "<div style=\"\">\n",
    "    <div style=\"float: left; width: 80%;\">\n",
    "        <a id=\"124\"></a>\n",
    "        <font><b>Task 124:</b></font>\n",
    "        <br><br>\n",
    "        Resize a list with rounds\n",
    "    </div>\n",
    "    <div style=\"float: right;\">\n",
    "        <a href=\"#top\" class=\"btn btn-primary btn-sm\" role=\"button\" aria-pressed=\"true\" style=\"color:white\" data-toggle=\"popover\" title=\"go to Top\">Go to Top</a>\n",
    "    </div>\n",
    "    <br style=\"clear: left;\" />\n",
    "</div>"
   ]
  },
  {
   "cell_type": "code",
   "execution_count": null,
   "metadata": {},
   "outputs": [],
   "source": [
    "# 124. Resize a list with rounds\n",
    "\n",
    "a_list = [10, 20, 30]\n",
    "result = np.resize(a_list, 12)\n",
    "\n",
    "print(result)"
   ]
  },
  {
   "cell_type": "markdown",
   "metadata": {},
   "source": [
    "<div style=\"\">\n",
    "    <div style=\"float: left; width: 80%;\">\n",
    "        <a id=\"125\"></a>\n",
    "        <font><b>Task 125:</b></font>\n",
    "        <br><br>\n",
    "        Print columns by index\n",
    "    </div>\n",
    "    <div style=\"float: right;\">\n",
    "        <a href=\"#top\" class=\"btn btn-primary btn-sm\" role=\"button\" aria-pressed=\"true\" style=\"color:white\" data-toggle=\"popover\" title=\"go to Top\">Go to Top</a>\n",
    "    </div>\n",
    "    <br style=\"clear: left;\" />\n",
    "</div>"
   ]
  },
  {
   "cell_type": "code",
   "execution_count": null,
   "metadata": {},
   "outputs": [],
   "source": [
    "# 125. Print columns by index\n",
    "\n",
    "x = np.array([[1,10,11],[12,0,3]])\n",
    "print('Original:')\n",
    "print(x)\n",
    "\n",
    "print('\\nPrinting Cols with Index:')\n",
    "for i in range(3):\n",
    "    print(i, x[:,i])"
   ]
  },
  {
   "cell_type": "markdown",
   "metadata": {},
   "source": [
    "<div style=\"\">\n",
    "    <div style=\"float: left; width: 80%;\">\n",
    "        <a id=\"126\"></a>\n",
    "        <font><b>Task 126:</b></font>\n",
    "        <br><br>\n",
    "        Initalize array with tuples\n",
    "    </div>\n",
    "    <div style=\"float: right;\">\n",
    "        <a href=\"#top\" class=\"btn btn-primary btn-sm\" role=\"button\" aria-pressed=\"true\" style=\"color:white\" data-toggle=\"popover\" title=\"go to Top\">Go to Top</a>\n",
    "    </div>\n",
    "    <br style=\"clear: left;\" />\n",
    "</div>"
   ]
  },
  {
   "cell_type": "code",
   "execution_count": null,
   "metadata": {},
   "outputs": [],
   "source": [
    "# 126. Initalize array with tuples\n",
    "\n",
    "a = np.full((3,2), np.nan, dtype='f,f')\n",
    "print('Original:')\n",
    "print(a)\n",
    "\n",
    "\n",
    "a[0] = (12, 2)\n",
    "print('\\nAfter setting up a tuple:')\n",
    "print(a)"
   ]
  },
  {
   "cell_type": "markdown",
   "metadata": {},
   "source": [
    "<div style=\"\">\n",
    "    <div style=\"float: left; width: 80%;\">\n",
    "        <a id=\"127\"></a>\n",
    "        <font><b>Task 127:</b></font>\n",
    "        <br><br>\n",
    "        Rearrange with permutation\n",
    "    </div>\n",
    "    <div style=\"float: right;\">\n",
    "        <a href=\"#top\" class=\"btn btn-primary btn-sm\" role=\"button\" aria-pressed=\"true\" style=\"color:white\" data-toggle=\"popover\" title=\"go to Top\">Go to Top</a>\n",
    "    </div>\n",
    "    <br style=\"clear: left;\" />\n",
    "</div>"
   ]
  },
  {
   "cell_type": "code",
   "execution_count": null,
   "metadata": {},
   "outputs": [],
   "source": [
    "# 127. Rearrange with permutation\n",
    "\n",
    "a = np.array([[10, 20, 30],\n",
    "                  [100, 200, 300]])\n",
    "\n",
    "print('Original:')\n",
    "print(a)\n",
    "\n",
    "permutation = [1, 0]\n",
    "b = a[permutation]\n",
    "print('\\nAfer:')\n",
    "print(b)"
   ]
  },
  {
   "cell_type": "code",
   "execution_count": null,
   "metadata": {},
   "outputs": [],
   "source": [
    "# 128. Squeeze 1\n",
    "\n",
    "x = np.array([[[0, 2], [1, 2], [2, 3]]])\n",
    "print('Original:')\n",
    "print(x)\n",
    "print('\\nShape:', x.shape)\n",
    "\n",
    "y = np.squeeze(x)\n",
    "print('\\nAfter Squeezing:')\n",
    "print(y)\n",
    "print('\\nShape:', y.shape)"
   ]
  },
  {
   "cell_type": "code",
   "execution_count": null,
   "metadata": {},
   "outputs": [],
   "source": [
    "# 129. Squeeze 2\n",
    "\n",
    "x = np.array([[[0], [1], [2]]])\n",
    "print('Original:')\n",
    "print(x)\n",
    "print('\\nShape:', x.shape)\n",
    "\n",
    "y = np.squeeze(x)\n",
    "print('\\nAfter Squeezing:')\n",
    "print(y)\n",
    "print('\\nShape:', y.shape)"
   ]
  },
  {
   "cell_type": "code",
   "execution_count": null,
   "metadata": {},
   "outputs": [],
   "source": [
    "# 130. Convert Array indices to One Hot Encoded\n",
    "\n",
    "a = np.array([1, 2, 4, 0])\n",
    "print('Original:')\n",
    "print(a)\n",
    "\n",
    "b = np.zeros((a.size, a.max() + 1))\n",
    "b[np.arange(a.size), a] = 1\n",
    "\n",
    "print('\\nAfter:')\n",
    "print(b)"
   ]
  },
  {
   "cell_type": "code",
   "execution_count": null,
   "metadata": {},
   "outputs": [],
   "source": [
    "# 131. Business Day Count\n",
    "\n",
    "a = np.busday_count('2020-01', '2021-01')\n",
    "\n",
    "print(a)"
   ]
  },
  {
   "cell_type": "code",
   "execution_count": null,
   "metadata": {},
   "outputs": [],
   "source": [
    "# 132. Multinomial 1\n",
    "\n",
    "size   = 11\n",
    "levels = 6\n",
    "a = np.random.multinomial(size, np.ones(levels)/levels, size=1)\n",
    "\n",
    "print(a)\n",
    "\n"
   ]
  },
  {
   "cell_type": "code",
   "execution_count": null,
   "metadata": {},
   "outputs": [],
   "source": [
    "# 133. Multinomial 2\n",
    "\n",
    "b = np.random.multinomial(20, [1/6.]*6, size=1)\n",
    "print(b)\n",
    "\n",
    "# How to interpret?\n",
    "# Assuue, you throw dice 20 times, if you get a result [[2 3 1 5 3 6]], it means\n",
    "# You got 1 for 2 times\n",
    "# You got 2 for 3 times"
   ]
  },
  {
   "cell_type": "code",
   "execution_count": null,
   "metadata": {},
   "outputs": [],
   "source": [
    "# 134. Random Generator - Draw samples from Beta Distribution\n",
    "\n",
    "from numpy.random import default_rng\n",
    "\n",
    "rng = default_rng()\n",
    "\n",
    "a = np.array([1, 2, 3])\n",
    "b = np.array([7, 8, 9])\n",
    "\n",
    "rng.beta(a + 10, b + 10)\n",
    "\n",
    "# Doc: https://numpy.org/doc/stable/reference/random/index.html\n",
    "# https://numpy.org/doc/stable/reference/random/generated/numpy.random.Generator.beta.html#numpy.random.Generator.beta"
   ]
  },
  {
   "cell_type": "code",
   "execution_count": null,
   "metadata": {},
   "outputs": [],
   "source": [
    "# 135. Get only unique\n",
    "\n",
    "import numpy as np\n",
    "\n",
    "a = np.array(['a', 'b', 'b', 'c', 'c', 'd', 'd'])\n",
    "print('Original:')\n",
    "print(a)\n",
    "\n",
    "b = np.unique(a)\n",
    "print('\\nUnique:')\n",
    "print(b)"
   ]
  },
  {
   "cell_type": "code",
   "execution_count": null,
   "metadata": {},
   "outputs": [],
   "source": [
    "# 136. Find indices with SearchSorted\n",
    "\n",
    "import numpy as np\n",
    "\n",
    "a = np.searchsorted([1,2,3,4,5], 3)\n",
    "print('np.searchsorted([1,2,3,4,5], 3):')\n",
    "print(a)\n",
    "\n",
    "\n",
    "b = np.searchsorted([1,2,3,4,5], [7, 2, 3])\n",
    "print('\\nnp.searchsorted([1,2,3,4,5], [7, 2, 3]):')\n",
    "print(b)"
   ]
  },
  {
   "cell_type": "markdown",
   "metadata": {},
   "source": [
    "\n",
    "##### **To Do:**\n",
    "\n",
    "* Add more exercises (targetting 150+ exercieses. You can come back and check after a while)\n",
    "* Add documentation for each exercise\n",
    "* Add more aesthetics"
   ]
  },
  {
   "cell_type": "markdown",
   "metadata": {},
   "source": [
    "**Final Notes:**\n",
    "\n",
    "I am adding things still. You can come back and check for more information.\n",
    "\n",
    "Also, if you **like my notebook**, <font style=\"color:blue;size:14px;\">please upvote it</font> as it will motivate me to come up with better approach in the upcoming notebooks."
   ]
  },
  {
   "cell_type": "code",
   "execution_count": null,
   "metadata": {},
   "outputs": [],
   "source": []
  }
 ],
 "metadata": {
  "kernelspec": {
   "display_name": "Python 3",
   "language": "python",
   "name": "python3"
  },
  "language_info": {
   "codemirror_mode": {
    "name": "ipython",
    "version": 3
   },
   "file_extension": ".py",
   "mimetype": "text/x-python",
   "name": "python",
   "nbconvert_exporter": "python",
   "pygments_lexer": "ipython3",
   "version": "3.7.4"
  }
 },
 "nbformat": 4,
 "nbformat_minor": 4
}
