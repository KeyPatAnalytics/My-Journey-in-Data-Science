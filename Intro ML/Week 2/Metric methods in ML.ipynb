{
 "cells": [
  {
   "cell_type": "markdown",
   "metadata": {},
   "source": [
    "# KNN Classifier "
   ]
  },
  {
   "cell_type": "code",
   "execution_count": 39,
   "metadata": {},
   "outputs": [],
   "source": [
    "import numpy as np\n",
    "import pandas as pd\n",
    "from sklearn import neighbors,metrics\n",
    "from sklearn.model_selection import KFold, cross_val_score\n",
    "from sklearn.preprocessing import scale"
   ]
  },
  {
   "cell_type": "code",
   "execution_count": 148,
   "metadata": {},
   "outputs": [],
   "source": [
    "wine_df = pd.read_csv('wine.data',header=None)"
   ]
  },
  {
   "cell_type": "code",
   "execution_count": 149,
   "metadata": {},
   "outputs": [],
   "source": [
    "wine_df.columns = ['Class','Alcohol','Malic acid','Ash','Alcalinity of ash',\n",
    "                'Magnesium','Total phenols','Flavanoids','Nonflavanoid phenols',\n",
    "                'Proanthocyanins','Color intensity','Hue','OD280/OD315 of diluted wines','Proline']"
   ]
  },
  {
   "cell_type": "code",
   "execution_count": 150,
   "metadata": {},
   "outputs": [
    {
     "name": "stdout",
     "output_type": "stream",
     "text": [
      "<class 'pandas.core.frame.DataFrame'>\n",
      "RangeIndex: 178 entries, 0 to 177\n",
      "Data columns (total 14 columns):\n",
      "Class                           178 non-null int64\n",
      "Alcohol                         178 non-null float64\n",
      "Malic acid                      178 non-null float64\n",
      "Ash                             178 non-null float64\n",
      "Alcalinity of ash               178 non-null float64\n",
      "Magnesium                       178 non-null int64\n",
      "Total phenols                   178 non-null float64\n",
      "Flavanoids                      178 non-null float64\n",
      "Nonflavanoid phenols            178 non-null float64\n",
      "Proanthocyanins                 178 non-null float64\n",
      "Color intensity                 178 non-null float64\n",
      "Hue                             178 non-null float64\n",
      "OD280/OD315 of diluted wines    178 non-null float64\n",
      "Proline                         178 non-null int64\n",
      "dtypes: float64(11), int64(3)\n",
      "memory usage: 19.6 KB\n"
     ]
    }
   ],
   "source": [
    "wine_df.info()"
   ]
  },
  {
   "cell_type": "code",
   "execution_count": 56,
   "metadata": {},
   "outputs": [
    {
     "name": "stdout",
     "output_type": "stream",
     "text": [
      "[[1.423e+01 1.710e+00 2.430e+00 ... 1.040e+00 3.920e+00 1.065e+03]\n",
      " [1.320e+01 1.780e+00 2.140e+00 ... 1.050e+00 3.400e+00 1.050e+03]\n",
      " [1.316e+01 2.360e+00 2.670e+00 ... 1.030e+00 3.170e+00 1.185e+03]\n",
      " ...\n",
      " [1.327e+01 4.280e+00 2.260e+00 ... 5.900e-01 1.560e+00 8.350e+02]\n",
      " [1.317e+01 2.590e+00 2.370e+00 ... 6.000e-01 1.620e+00 8.400e+02]\n",
      " [1.413e+01 4.100e+00 2.740e+00 ... 6.100e-01 1.600e+00 5.600e+02]]\n"
     ]
    }
   ],
   "source": [
    "X = wine_df.iloc[:,1:].values\n",
    "target = np.squeeze(np.asarray(wine_df.iloc[:,0]))\n",
    "\n",
    "print(X)"
   ]
  },
  {
   "cell_type": "code",
   "execution_count": 131,
   "metadata": {},
   "outputs": [],
   "source": [
    "# The partition generator\n",
    "kfold = KFold(n_splits=5,random_state=42,shuffle=True)\n",
    "\n",
    "# The classifier model\n",
    "knn = neighbors.KNeighborsClassifier(n_neighbors = 10)\n",
    "\n",
    "# Cross validation\n",
    "scores  = cross_val_score(estimator=knn,X = X, y=target, scoring='accuracy', cv=partition)"
   ]
  },
  {
   "cell_type": "code",
   "execution_count": 132,
   "metadata": {},
   "outputs": [
    {
     "data": {
      "text/plain": [
       "array([0.72222222, 0.61111111, 0.63888889, 0.68571429, 0.74285714])"
      ]
     },
     "execution_count": 132,
     "metadata": {},
     "output_type": "execute_result"
    }
   ],
   "source": [
    "scores"
   ]
  },
  {
   "cell_type": "code",
   "execution_count": 136,
   "metadata": {},
   "outputs": [],
   "source": [
    "def k_cross_score(k,features,target):\n",
    "    knn = neighbors.KNeighborsClassifier(n_neighbors = k)\n",
    "    scores = cross_val_score(estimator=knn,X=features,y=target,scoring='accuracy',cv=kfold)\n",
    "    return scores.mean()"
   ]
  },
  {
   "cell_type": "code",
   "execution_count": 137,
   "metadata": {},
   "outputs": [],
   "source": [
    "k_scores = []\n",
    "for k in range(1,51):\n",
    "    score = k_cross_score(k,X,target)\n",
    "    k_scores.append((k,round(score,2)))"
   ]
  },
  {
   "cell_type": "code",
   "execution_count": 145,
   "metadata": {},
   "outputs": [],
   "source": [
    "k_scores.sort(key = lambda x:x[1], reverse=True)\n",
    "#k_scores"
   ]
  },
  {
   "cell_type": "code",
   "execution_count": 139,
   "metadata": {},
   "outputs": [],
   "source": [
    "with open('1.txt','w',encoding='utf-8') as fileout:\n",
    "    print(k_scores[0][0], file=fileout, end='')\n",
    "    \n",
    "with open('2.txt','w',encoding='utf-8') as fileout:\n",
    "    print(round(k_scores[0][1],2), file=fileout, end='')"
   ]
  },
  {
   "cell_type": "code",
   "execution_count": 140,
   "metadata": {},
   "outputs": [],
   "source": [
    "stand_X = scale(X)"
   ]
  },
  {
   "cell_type": "code",
   "execution_count": 142,
   "metadata": {},
   "outputs": [],
   "source": [
    "stand_k_scores = []\n",
    "for k in range(2,51):\n",
    "    score = k_cross_score(k,stand_X,target)\n",
    "    stand_k_scores.append((k,round(score,2)))\n",
    "    \n",
    "stand_k_scores.sort(key = lambda x:x[1], reverse=True)"
   ]
  },
  {
   "cell_type": "code",
   "execution_count": 143,
   "metadata": {},
   "outputs": [],
   "source": [
    "with open('3.txt','w',encoding='utf-8') as fileout:\n",
    "    print(stand_k_scores[0][0], file=fileout, end='')\n",
    "    \n",
    "with open('4.txt','w',encoding='utf-8') as fileout:\n",
    "    print(round(stand_k_scores[0][1],2), file=fileout, end='')"
   ]
  },
  {
   "cell_type": "code",
   "execution_count": 146,
   "metadata": {},
   "outputs": [],
   "source": [
    "#stand_k_scores"
   ]
  },
  {
   "cell_type": "code",
   "execution_count": 147,
   "metadata": {},
   "outputs": [
    {
     "data": {
      "text/plain": [
       "array([[ 1.51861254, -0.5622498 ,  0.23205254, ...,  0.36217728,\n",
       "         1.84791957,  1.01300893],\n",
       "       [ 0.24628963, -0.49941338, -0.82799632, ...,  0.40605066,\n",
       "         1.1134493 ,  0.96524152],\n",
       "       [ 0.19687903,  0.02123125,  1.10933436, ...,  0.31830389,\n",
       "         0.78858745,  1.39514818],\n",
       "       ...,\n",
       "       [ 0.33275817,  1.74474449, -0.38935541, ..., -1.61212515,\n",
       "        -1.48544548,  0.28057537],\n",
       "       [ 0.20923168,  0.22769377,  0.01273209, ..., -1.56825176,\n",
       "        -1.40069891,  0.29649784],\n",
       "       [ 1.39508604,  1.58316512,  1.36520822, ..., -1.52437837,\n",
       "        -1.42894777, -0.59516041]])"
      ]
     },
     "execution_count": 147,
     "metadata": {},
     "output_type": "execute_result"
    }
   ],
   "source": [
    "stand_X "
   ]
  },
  {
   "cell_type": "code",
   "execution_count": null,
   "metadata": {},
   "outputs": [],
   "source": []
  }
 ],
 "metadata": {
  "kernelspec": {
   "display_name": "Python 3",
   "language": "python",
   "name": "python3"
  },
  "language_info": {
   "codemirror_mode": {
    "name": "ipython",
    "version": 3
   },
   "file_extension": ".py",
   "mimetype": "text/x-python",
   "name": "python",
   "nbconvert_exporter": "python",
   "pygments_lexer": "ipython3",
   "version": "3.7.4"
  }
 },
 "nbformat": 4,
 "nbformat_minor": 2
}
