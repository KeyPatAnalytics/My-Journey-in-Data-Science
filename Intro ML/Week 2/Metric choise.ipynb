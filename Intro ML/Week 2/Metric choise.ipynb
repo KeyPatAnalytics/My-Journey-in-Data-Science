{
 "cells": [
  {
   "cell_type": "markdown",
   "metadata": {},
   "source": [
    "# Metric choise"
   ]
  },
  {
   "cell_type": "code",
   "execution_count": 42,
   "metadata": {},
   "outputs": [],
   "source": [
    "import numpy as np\n",
    "import pandas as pd\n",
    "\n",
    "# sklearn libraries\n",
    "from sklearn.neighbors import KNeighborsRegressor\n",
    "from sklearn import datasets, metrics\n",
    "from sklearn.preprocessing import scale\n",
    "from sklearn.model_selection import cross_val_score, KFold"
   ]
  },
  {
   "cell_type": "code",
   "execution_count": 37,
   "metadata": {},
   "outputs": [],
   "source": [
    "Boston = datasets.load_boston()\n",
    "X = Boston['data']\n",
    "y = Boston['target']\n"
   ]
  },
  {
   "cell_type": "code",
   "execution_count": 38,
   "metadata": {},
   "outputs": [
    {
     "data": {
      "text/plain": [
       "array([[-0.41978194,  0.28482986, -1.2879095 , ..., -1.45900038,\n",
       "         0.44105193, -1.0755623 ],\n",
       "       [-0.41733926, -0.48772236, -0.59338101, ..., -0.30309415,\n",
       "         0.44105193, -0.49243937],\n",
       "       [-0.41734159, -0.48772236, -0.59338101, ..., -0.30309415,\n",
       "         0.39642699, -1.2087274 ],\n",
       "       ...,\n",
       "       [-0.41344658, -0.48772236,  0.11573841, ...,  1.17646583,\n",
       "         0.44105193, -0.98304761],\n",
       "       [-0.40776407, -0.48772236,  0.11573841, ...,  1.17646583,\n",
       "         0.4032249 , -0.86530163],\n",
       "       [-0.41500016, -0.48772236,  0.11573841, ...,  1.17646583,\n",
       "         0.44105193, -0.66905833]])"
      ]
     },
     "execution_count": 38,
     "metadata": {},
     "output_type": "execute_result"
    }
   ],
   "source": [
    "scale(X,axis=0,with_mean=True,with_std=True,copy=False)"
   ]
  },
  {
   "cell_type": "code",
   "execution_count": 50,
   "metadata": {},
   "outputs": [],
   "source": [
    "# THIS IS OUR MODEL\n",
    "knnr = KNeighborsRegressor(n_neighbors=5,weights='distance',metric='minkowski',p=2)\n",
    "\n",
    "# HERE DO WE ASK THE GENERATOR TO SPLIT THE DATA INTO 5 FOLDS\n",
    "kfold = KFold(n_splits=5,shuffle=True,random_state=42)\n",
    "\n",
    "#TO GET AVAILABLE METRICS\n",
    "#sorted(metrics.SCORERS.keys())\n",
    "\n",
    "# EVALUATING THE SCORES\n",
    "scores = cross_val_score(estimator=knnr, X=X,y=y,cv=kfold,scoring='neg_mean_squared_error')"
   ]
  },
  {
   "cell_type": "code",
   "execution_count": 52,
   "metadata": {},
   "outputs": [],
   "source": [
    "def p_score(p,X,y):\n",
    "    knnr = KNeighborsRegressor(n_neighbors=5,weights='distance',metric='minkowski',p=p)\n",
    "    score = cross_val_score(estimator=knnr, X=X,y=y,cv=kfold,scoring='neg_mean_squared_error')\n",
    "    return score.mean()"
   ]
  },
  {
   "cell_type": "code",
   "execution_count": null,
   "metadata": {},
   "outputs": [],
   "source": [
    "p_par = []\n",
    "\n",
    "for p in np.linspace(1,10,200):\n",
    "    p_par.append((p,p_scores(p,X,y)))\n",
    "\n",
    "p_par.sort(key = lambda x:x[1],reverse=True)"
   ]
  },
  {
   "cell_type": "code",
   "execution_count": 54,
   "metadata": {},
   "outputs": [],
   "source": [
    "with open('metric choise.txt','w',encoding='utf-8') as fileout:\n",
    "    print(round(p_par[0][0],2), file=fileout, end='')"
   ]
  },
  {
   "cell_type": "code",
   "execution_count": null,
   "metadata": {},
   "outputs": [],
   "source": []
  },
  {
   "cell_type": "code",
   "execution_count": null,
   "metadata": {},
   "outputs": [],
   "source": []
  },
  {
   "cell_type": "code",
   "execution_count": null,
   "metadata": {},
   "outputs": [],
   "source": []
  },
  {
   "cell_type": "code",
   "execution_count": null,
   "metadata": {},
   "outputs": [],
   "source": []
  }
 ],
 "metadata": {
  "kernelspec": {
   "display_name": "Python 3",
   "language": "python",
   "name": "python3"
  },
  "language_info": {
   "codemirror_mode": {
    "name": "ipython",
    "version": 3
   },
   "file_extension": ".py",
   "mimetype": "text/x-python",
   "name": "python",
   "nbconvert_exporter": "python",
   "pygments_lexer": "ipython3",
   "version": "3.7.4"
  }
 },
 "nbformat": 4,
 "nbformat_minor": 2
}
