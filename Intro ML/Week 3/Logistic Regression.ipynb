{
 "cells": [
  {
   "cell_type": "code",
   "execution_count": 1,
   "metadata": {},
   "outputs": [],
   "source": [
    "import numpy as np\n",
    "import pandas as pd\n",
    "\n",
    "#sklearn libraries\n",
    "from sklearn.metrics import roc_auc_score"
   ]
  },
  {
   "cell_type": "code",
   "execution_count": 9,
   "metadata": {},
   "outputs": [],
   "source": [
    "data_logistic = pd.read_csv('data-logistic.csv',header=None)"
   ]
  },
  {
   "cell_type": "code",
   "execution_count": 11,
   "metadata": {},
   "outputs": [
    {
     "data": {
      "text/plain": [
       "(205, 3)"
      ]
     },
     "execution_count": 11,
     "metadata": {},
     "output_type": "execute_result"
    }
   ],
   "source": [
    "data_logistic.shape"
   ]
  },
  {
   "cell_type": "code",
   "execution_count": 58,
   "metadata": {},
   "outputs": [],
   "source": [
    "X = np.asarray(data_logistic.iloc[:,1:])\n",
    "y = np.asarray(data_logistic.iloc[:,0])"
   ]
  },
  {
   "cell_type": "code",
   "execution_count": 59,
   "metadata": {},
   "outputs": [],
   "source": [
    "def sigmoid(x):\n",
    "    return (1 + np.exp(-x))**(-1)"
   ]
  },
  {
   "cell_type": "code",
   "execution_count": 122,
   "metadata": {},
   "outputs": [],
   "source": [
    "def gradient_descent(X,y,k,w_previous,c):\n",
    "    N = len(y)\n",
    "    \n",
    "    Wlen = len(w_previous)\n",
    "    w = [0]*Wlen #Vector-parameter W\n",
    "    \n",
    "    sigmoid_sum = [0]*Wlen #We initialize the sum\n",
    "    \n",
    "    for j in range(Wlen):\n",
    "        for i in range(N):\n",
    "            sigmoid_sum[j] += y[i] * X[i,j] * (1-sigmoid(y[i]*np.dot(w_previous,X[i])))\n",
    "            \n",
    "    \n",
    "    for j in range(Wlen):\n",
    "        w[j] = w_previous[j] + (k/N)*sigmoid_sum[j] - k*c*w_previous[j]\n",
    "    \n",
    "    return w"
   ]
  },
  {
   "cell_type": "code",
   "execution_count": 98,
   "metadata": {},
   "outputs": [],
   "source": [
    "def distance(A,B):\n",
    "    return np.sqrt((A[0]-B[0])**2 + (A[1]-B[1])**2)"
   ]
  },
  {
   "cell_type": "code",
   "execution_count": 132,
   "metadata": {},
   "outputs": [],
   "source": [
    "def logistic_regression(X,y,k,c=0,eps=0.00001,max_iter=10000):\n",
    "    w_previous = np.array([0,0])\n",
    "    w1, w2 = gradient_descent(X,y,k,w_previous,c)\n",
    "    \n",
    "    i = 1\n",
    "    while(i < max_iter and distance(w_previous,[w1,w2])>= eps):\n",
    "        w_previous = [w1,w2]\n",
    "        w1, w2 = gradient_descent(X,y,k,w_previous,c)\n",
    "        i += 1\n",
    "        \n",
    "    print(i)\n",
    "    print(distance(w_previous,[w1,w2]))\n",
    "    \n",
    "    predictions = []\n",
    "    for i in range(len(X)):\n",
    "        predictions.append(sigmoid(np.dot([w1,w2],X[i])))\n",
    "    return predictions    "
   ]
  },
  {
   "cell_type": "code",
   "execution_count": 147,
   "metadata": {},
   "outputs": [
    {
     "name": "stdout",
     "output_type": "stream",
     "text": [
      "431\n",
      "9.89018899230136e-06\n",
      "10\n",
      "4.287084100022605e-06\n"
     ]
    }
   ],
   "source": [
    "predict_L1 = logistic_regression(X,y,k=0.05)\n",
    "predict_L2 = logistic_regression(X,y,k=0.05,c=10)"
   ]
  },
  {
   "cell_type": "code",
   "execution_count": 138,
   "metadata": {},
   "outputs": [],
   "source": [
    "predict_L1 = np.asarray(predict_L1)\n",
    "predict_L2 = np.asarray(predict_L2)"
   ]
  },
  {
   "cell_type": "code",
   "execution_count": 143,
   "metadata": {},
   "outputs": [],
   "source": [
    "scoreL1 = roc_auc_score(y,predict_L1)\n",
    "scoreL2 = roc_auc_score(y,predict_L2)"
   ]
  },
  {
   "cell_type": "code",
   "execution_count": 144,
   "metadata": {},
   "outputs": [],
   "source": [
    "with open('logistic regression.txt','w',encoding='utf-8') as fileOut:\n",
    "    print(round(scoreL1,3),round(scoreL2,3),file=fileOut,end='')"
   ]
  },
  {
   "cell_type": "code",
   "execution_count": null,
   "metadata": {},
   "outputs": [],
   "source": []
  }
 ],
 "metadata": {
  "kernelspec": {
   "display_name": "Python 3",
   "language": "python",
   "name": "python3"
  },
  "language_info": {
   "codemirror_mode": {
    "name": "ipython",
    "version": 3
   },
   "file_extension": ".py",
   "mimetype": "text/x-python",
   "name": "python",
   "nbconvert_exporter": "python",
   "pygments_lexer": "ipython3",
   "version": "3.7.4"
  }
 },
 "nbformat": 4,
 "nbformat_minor": 2
}
